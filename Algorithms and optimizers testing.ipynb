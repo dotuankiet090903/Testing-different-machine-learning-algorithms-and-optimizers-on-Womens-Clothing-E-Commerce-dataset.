{
  "cells": [
    {
      "cell_type": "markdown",
      "source": [
        "Member's names:\n",
        "- Đỗ Tuấn Kiệt\n",
        "- Đặng Cao Đạt"
      ],
      "metadata": {
        "id": "osygHnDvF7UB"
      }
    },
    {
      "cell_type": "markdown",
      "metadata": {
        "id": "L4VkQJJZaF4H"
      },
      "source": [
        "# Task 2"
      ]
    },
    {
      "cell_type": "markdown",
      "metadata": {
        "id": "lh7r9nezcaGm"
      },
      "source": [
        "## Part 1"
      ]
    },
    {
      "cell_type": "markdown",
      "metadata": {
        "id": "xQg8afu-xQNt"
      },
      "source": [
        "### Statiscal Analysis"
      ]
    },
    {
      "cell_type": "code",
      "execution_count": null,
      "metadata": {
        "id": "nfcqpgCnaIch"
      },
      "outputs": [],
      "source": [
        "from keras.models import Sequential\n",
        "import tensorflow as tf\n",
        "from keras.preprocessing import image\n",
        "import numpy as np\n",
        "from keras.utils import to_categorical\n",
        "import matplotlib.pyplot as plt\n",
        "import seaborn as sns\n",
        "import os\n",
        "import pandas as pd\n",
        "import gdown\n",
        "import random\n",
        "from sklearn.ensemble import RandomForestRegressor\n",
        "from sklearn.feature_extraction.text import TfidfVectorizer"
      ]
    },
    {
      "cell_type": "code",
      "execution_count": null,
      "metadata": {
        "colab": {
          "base_uri": "https://localhost:8080/",
          "height": 105
        },
        "id": "Lhrd-_Gv_RoL",
        "outputId": "77ddff79-89b4-4c44-ca4a-9e09b8aa83f6"
      },
      "outputs": [
        {
          "name": "stderr",
          "output_type": "stream",
          "text": [
            "Downloading...\n",
            "From: https://drive.google.com/uc?id=1ZYdt0zN4LjWqP3cQDblNhXjeohcryY5H\n",
            "To: /content/Womens Clothing E-Commerce Reviews.csv\n",
            "100%|██████████| 8.48M/8.48M [00:00<00:00, 26.9MB/s]\n"
          ]
        },
        {
          "data": {
            "application/vnd.google.colaboratory.intrinsic+json": {
              "type": "string"
            },
            "text/plain": [
              "'Womens Clothing E-Commerce Reviews.csv'"
            ]
          },
          "execution_count": 2,
          "metadata": {},
          "output_type": "execute_result"
        }
      ],
      "source": [
        "gdown.download('https://drive.google.com/uc?id=1ZYdt0zN4LjWqP3cQDblNhXjeohcryY5H',\n",
        "                'Womens Clothing E-Commerce Reviews.csv',\n",
        "                quiet=False)"
      ]
    },
    {
      "cell_type": "code",
      "execution_count": null,
      "metadata": {
        "colab": {
          "base_uri": "https://localhost:8080/",
          "height": 206
        },
        "id": "9b8wiLyA_kP8",
        "outputId": "f73b4c7a-3244-48c1-aab2-0d078c0dca25"
      },
      "outputs": [
        {
          "data": {
            "text/html": [
              "\n",
              "  <div id=\"df-92c8193c-9bd7-4ec5-aa00-4dd044af9236\" class=\"colab-df-container\">\n",
              "    <div>\n",
              "<style scoped>\n",
              "    .dataframe tbody tr th:only-of-type {\n",
              "        vertical-align: middle;\n",
              "    }\n",
              "\n",
              "    .dataframe tbody tr th {\n",
              "        vertical-align: top;\n",
              "    }\n",
              "\n",
              "    .dataframe thead th {\n",
              "        text-align: right;\n",
              "    }\n",
              "</style>\n",
              "<table border=\"1\" class=\"dataframe\">\n",
              "  <thead>\n",
              "    <tr style=\"text-align: right;\">\n",
              "      <th></th>\n",
              "      <th>Clothing ID</th>\n",
              "      <th>Age</th>\n",
              "      <th>Title</th>\n",
              "      <th>Review Text</th>\n",
              "      <th>Rating</th>\n",
              "      <th>Recommended IND</th>\n",
              "      <th>Positive Feedback Count</th>\n",
              "      <th>Division Name</th>\n",
              "      <th>Department Name</th>\n",
              "      <th>Class Name</th>\n",
              "    </tr>\n",
              "  </thead>\n",
              "  <tbody>\n",
              "    <tr>\n",
              "      <th>0</th>\n",
              "      <td>767</td>\n",
              "      <td>33</td>\n",
              "      <td>NaN</td>\n",
              "      <td>Absolutely wonderful - silky and sexy and comf...</td>\n",
              "      <td>4</td>\n",
              "      <td>1</td>\n",
              "      <td>0</td>\n",
              "      <td>Initmates</td>\n",
              "      <td>Intimate</td>\n",
              "      <td>Intimates</td>\n",
              "    </tr>\n",
              "    <tr>\n",
              "      <th>1</th>\n",
              "      <td>1080</td>\n",
              "      <td>34</td>\n",
              "      <td>NaN</td>\n",
              "      <td>Love this dress!  it's sooo pretty.  i happene...</td>\n",
              "      <td>5</td>\n",
              "      <td>1</td>\n",
              "      <td>4</td>\n",
              "      <td>General</td>\n",
              "      <td>Dresses</td>\n",
              "      <td>Dresses</td>\n",
              "    </tr>\n",
              "    <tr>\n",
              "      <th>2</th>\n",
              "      <td>1077</td>\n",
              "      <td>60</td>\n",
              "      <td>Some major design flaws</td>\n",
              "      <td>I had such high hopes for this dress and reall...</td>\n",
              "      <td>3</td>\n",
              "      <td>0</td>\n",
              "      <td>0</td>\n",
              "      <td>General</td>\n",
              "      <td>Dresses</td>\n",
              "      <td>Dresses</td>\n",
              "    </tr>\n",
              "    <tr>\n",
              "      <th>3</th>\n",
              "      <td>1049</td>\n",
              "      <td>50</td>\n",
              "      <td>My favorite buy!</td>\n",
              "      <td>I love, love, love this jumpsuit. it's fun, fl...</td>\n",
              "      <td>5</td>\n",
              "      <td>1</td>\n",
              "      <td>0</td>\n",
              "      <td>General Petite</td>\n",
              "      <td>Bottoms</td>\n",
              "      <td>Pants</td>\n",
              "    </tr>\n",
              "    <tr>\n",
              "      <th>4</th>\n",
              "      <td>847</td>\n",
              "      <td>47</td>\n",
              "      <td>Flattering shirt</td>\n",
              "      <td>This shirt is very flattering to all due to th...</td>\n",
              "      <td>5</td>\n",
              "      <td>1</td>\n",
              "      <td>6</td>\n",
              "      <td>General</td>\n",
              "      <td>Tops</td>\n",
              "      <td>Blouses</td>\n",
              "    </tr>\n",
              "  </tbody>\n",
              "</table>\n",
              "</div>\n",
              "    <div class=\"colab-df-buttons\">\n",
              "\n",
              "  <div class=\"colab-df-container\">\n",
              "    <button class=\"colab-df-convert\" onclick=\"convertToInteractive('df-92c8193c-9bd7-4ec5-aa00-4dd044af9236')\"\n",
              "            title=\"Convert this dataframe to an interactive table.\"\n",
              "            style=\"display:none;\">\n",
              "\n",
              "  <svg xmlns=\"http://www.w3.org/2000/svg\" height=\"24px\" viewBox=\"0 -960 960 960\">\n",
              "    <path d=\"M120-120v-720h720v720H120Zm60-500h600v-160H180v160Zm220 220h160v-160H400v160Zm0 220h160v-160H400v160ZM180-400h160v-160H180v160Zm440 0h160v-160H620v160ZM180-180h160v-160H180v160Zm440 0h160v-160H620v160Z\"/>\n",
              "  </svg>\n",
              "    </button>\n",
              "\n",
              "  <style>\n",
              "    .colab-df-container {\n",
              "      display:flex;\n",
              "      gap: 12px;\n",
              "    }\n",
              "\n",
              "    .colab-df-convert {\n",
              "      background-color: #E8F0FE;\n",
              "      border: none;\n",
              "      border-radius: 50%;\n",
              "      cursor: pointer;\n",
              "      display: none;\n",
              "      fill: #1967D2;\n",
              "      height: 32px;\n",
              "      padding: 0 0 0 0;\n",
              "      width: 32px;\n",
              "    }\n",
              "\n",
              "    .colab-df-convert:hover {\n",
              "      background-color: #E2EBFA;\n",
              "      box-shadow: 0px 1px 2px rgba(60, 64, 67, 0.3), 0px 1px 3px 1px rgba(60, 64, 67, 0.15);\n",
              "      fill: #174EA6;\n",
              "    }\n",
              "\n",
              "    .colab-df-buttons div {\n",
              "      margin-bottom: 4px;\n",
              "    }\n",
              "\n",
              "    [theme=dark] .colab-df-convert {\n",
              "      background-color: #3B4455;\n",
              "      fill: #D2E3FC;\n",
              "    }\n",
              "\n",
              "    [theme=dark] .colab-df-convert:hover {\n",
              "      background-color: #434B5C;\n",
              "      box-shadow: 0px 1px 3px 1px rgba(0, 0, 0, 0.15);\n",
              "      filter: drop-shadow(0px 1px 2px rgba(0, 0, 0, 0.3));\n",
              "      fill: #FFFFFF;\n",
              "    }\n",
              "  </style>\n",
              "\n",
              "    <script>\n",
              "      const buttonEl =\n",
              "        document.querySelector('#df-92c8193c-9bd7-4ec5-aa00-4dd044af9236 button.colab-df-convert');\n",
              "      buttonEl.style.display =\n",
              "        google.colab.kernel.accessAllowed ? 'block' : 'none';\n",
              "\n",
              "      async function convertToInteractive(key) {\n",
              "        const element = document.querySelector('#df-92c8193c-9bd7-4ec5-aa00-4dd044af9236');\n",
              "        const dataTable =\n",
              "          await google.colab.kernel.invokeFunction('convertToInteractive',\n",
              "                                                    [key], {});\n",
              "        if (!dataTable) return;\n",
              "\n",
              "        const docLinkHtml = 'Like what you see? Visit the ' +\n",
              "          '<a target=\"_blank\" href=https://colab.research.google.com/notebooks/data_table.ipynb>data table notebook</a>'\n",
              "          + ' to learn more about interactive tables.';\n",
              "        element.innerHTML = '';\n",
              "        dataTable['output_type'] = 'display_data';\n",
              "        await google.colab.output.renderOutput(dataTable, element);\n",
              "        const docLink = document.createElement('div');\n",
              "        docLink.innerHTML = docLinkHtml;\n",
              "        element.appendChild(docLink);\n",
              "      }\n",
              "    </script>\n",
              "  </div>\n",
              "\n",
              "\n",
              "<div id=\"df-6b1595aa-311d-4ec0-b23b-55be697da405\">\n",
              "  <button class=\"colab-df-quickchart\" onclick=\"quickchart('df-6b1595aa-311d-4ec0-b23b-55be697da405')\"\n",
              "            title=\"Suggest charts\"\n",
              "            style=\"display:none;\">\n",
              "\n",
              "<svg xmlns=\"http://www.w3.org/2000/svg\" height=\"24px\"viewBox=\"0 0 24 24\"\n",
              "     width=\"24px\">\n",
              "    <g>\n",
              "        <path d=\"M19 3H5c-1.1 0-2 .9-2 2v14c0 1.1.9 2 2 2h14c1.1 0 2-.9 2-2V5c0-1.1-.9-2-2-2zM9 17H7v-7h2v7zm4 0h-2V7h2v10zm4 0h-2v-4h2v4z\"/>\n",
              "    </g>\n",
              "</svg>\n",
              "  </button>\n",
              "\n",
              "<style>\n",
              "  .colab-df-quickchart {\n",
              "      --bg-color: #E8F0FE;\n",
              "      --fill-color: #1967D2;\n",
              "      --hover-bg-color: #E2EBFA;\n",
              "      --hover-fill-color: #174EA6;\n",
              "      --disabled-fill-color: #AAA;\n",
              "      --disabled-bg-color: #DDD;\n",
              "  }\n",
              "\n",
              "  [theme=dark] .colab-df-quickchart {\n",
              "      --bg-color: #3B4455;\n",
              "      --fill-color: #D2E3FC;\n",
              "      --hover-bg-color: #434B5C;\n",
              "      --hover-fill-color: #FFFFFF;\n",
              "      --disabled-bg-color: #3B4455;\n",
              "      --disabled-fill-color: #666;\n",
              "  }\n",
              "\n",
              "  .colab-df-quickchart {\n",
              "    background-color: var(--bg-color);\n",
              "    border: none;\n",
              "    border-radius: 50%;\n",
              "    cursor: pointer;\n",
              "    display: none;\n",
              "    fill: var(--fill-color);\n",
              "    height: 32px;\n",
              "    padding: 0;\n",
              "    width: 32px;\n",
              "  }\n",
              "\n",
              "  .colab-df-quickchart:hover {\n",
              "    background-color: var(--hover-bg-color);\n",
              "    box-shadow: 0 1px 2px rgba(60, 64, 67, 0.3), 0 1px 3px 1px rgba(60, 64, 67, 0.15);\n",
              "    fill: var(--button-hover-fill-color);\n",
              "  }\n",
              "\n",
              "  .colab-df-quickchart-complete:disabled,\n",
              "  .colab-df-quickchart-complete:disabled:hover {\n",
              "    background-color: var(--disabled-bg-color);\n",
              "    fill: var(--disabled-fill-color);\n",
              "    box-shadow: none;\n",
              "  }\n",
              "\n",
              "  .colab-df-spinner {\n",
              "    border: 2px solid var(--fill-color);\n",
              "    border-color: transparent;\n",
              "    border-bottom-color: var(--fill-color);\n",
              "    animation:\n",
              "      spin 1s steps(1) infinite;\n",
              "  }\n",
              "\n",
              "  @keyframes spin {\n",
              "    0% {\n",
              "      border-color: transparent;\n",
              "      border-bottom-color: var(--fill-color);\n",
              "      border-left-color: var(--fill-color);\n",
              "    }\n",
              "    20% {\n",
              "      border-color: transparent;\n",
              "      border-left-color: var(--fill-color);\n",
              "      border-top-color: var(--fill-color);\n",
              "    }\n",
              "    30% {\n",
              "      border-color: transparent;\n",
              "      border-left-color: var(--fill-color);\n",
              "      border-top-color: var(--fill-color);\n",
              "      border-right-color: var(--fill-color);\n",
              "    }\n",
              "    40% {\n",
              "      border-color: transparent;\n",
              "      border-right-color: var(--fill-color);\n",
              "      border-top-color: var(--fill-color);\n",
              "    }\n",
              "    60% {\n",
              "      border-color: transparent;\n",
              "      border-right-color: var(--fill-color);\n",
              "    }\n",
              "    80% {\n",
              "      border-color: transparent;\n",
              "      border-right-color: var(--fill-color);\n",
              "      border-bottom-color: var(--fill-color);\n",
              "    }\n",
              "    90% {\n",
              "      border-color: transparent;\n",
              "      border-bottom-color: var(--fill-color);\n",
              "    }\n",
              "  }\n",
              "</style>\n",
              "\n",
              "  <script>\n",
              "    async function quickchart(key) {\n",
              "      const quickchartButtonEl =\n",
              "        document.querySelector('#' + key + ' button');\n",
              "      quickchartButtonEl.disabled = true;  // To prevent multiple clicks.\n",
              "      quickchartButtonEl.classList.add('colab-df-spinner');\n",
              "      try {\n",
              "        const charts = await google.colab.kernel.invokeFunction(\n",
              "            'suggestCharts', [key], {});\n",
              "      } catch (error) {\n",
              "        console.error('Error during call to suggestCharts:', error);\n",
              "      }\n",
              "      quickchartButtonEl.classList.remove('colab-df-spinner');\n",
              "      quickchartButtonEl.classList.add('colab-df-quickchart-complete');\n",
              "    }\n",
              "    (() => {\n",
              "      let quickchartButtonEl =\n",
              "        document.querySelector('#df-6b1595aa-311d-4ec0-b23b-55be697da405 button');\n",
              "      quickchartButtonEl.style.display =\n",
              "        google.colab.kernel.accessAllowed ? 'block' : 'none';\n",
              "    })();\n",
              "  </script>\n",
              "</div>\n",
              "    </div>\n",
              "  </div>\n"
            ],
            "text/plain": [
              "   Clothing ID  Age                    Title  \\\n",
              "0          767   33                      NaN   \n",
              "1         1080   34                      NaN   \n",
              "2         1077   60  Some major design flaws   \n",
              "3         1049   50         My favorite buy!   \n",
              "4          847   47         Flattering shirt   \n",
              "\n",
              "                                         Review Text  Rating  Recommended IND  \\\n",
              "0  Absolutely wonderful - silky and sexy and comf...       4                1   \n",
              "1  Love this dress!  it's sooo pretty.  i happene...       5                1   \n",
              "2  I had such high hopes for this dress and reall...       3                0   \n",
              "3  I love, love, love this jumpsuit. it's fun, fl...       5                1   \n",
              "4  This shirt is very flattering to all due to th...       5                1   \n",
              "\n",
              "   Positive Feedback Count   Division Name Department Name Class Name  \n",
              "0                        0       Initmates        Intimate  Intimates  \n",
              "1                        4         General         Dresses    Dresses  \n",
              "2                        0         General         Dresses    Dresses  \n",
              "3                        0  General Petite         Bottoms      Pants  \n",
              "4                        6         General            Tops    Blouses  "
            ]
          },
          "execution_count": 3,
          "metadata": {},
          "output_type": "execute_result"
        }
      ],
      "source": [
        "# Load the dataset\n",
        "data_df = pd.read_csv('Womens Clothing E-Commerce Reviews.csv', index_col=0)\n",
        "\n",
        "data_df.head()"
      ]
    },
    {
      "cell_type": "code",
      "execution_count": null,
      "metadata": {
        "colab": {
          "base_uri": "https://localhost:8080/"
        },
        "id": "euP9A4Uvjfvr",
        "outputId": "4c7b3558-ed44-48c3-dee4-843944ed6e12"
      },
      "outputs": [
        {
          "name": "stdout",
          "output_type": "stream",
          "text": [
            "        Clothing ID           Age        Rating  Recommended IND  \\\n",
            "count  23486.000000  23486.000000  23486.000000     23486.000000   \n",
            "mean     918.118709     43.198544      4.196032         0.822362   \n",
            "std      203.298980     12.279544      1.110031         0.382216   \n",
            "min        0.000000     18.000000      1.000000         0.000000   \n",
            "25%      861.000000     34.000000      4.000000         1.000000   \n",
            "50%      936.000000     41.000000      5.000000         1.000000   \n",
            "75%     1078.000000     52.000000      5.000000         1.000000   \n",
            "max     1205.000000     99.000000      5.000000         1.000000   \n",
            "\n",
            "       Positive Feedback Count  \n",
            "count             23486.000000  \n",
            "mean                  2.535936  \n",
            "std                   5.702202  \n",
            "min                   0.000000  \n",
            "25%                   0.000000  \n",
            "50%                   1.000000  \n",
            "75%                   3.000000  \n",
            "max                 122.000000  \n"
          ]
        }
      ],
      "source": [
        "# Perform statistical analysis\n",
        "# Get the summary statistics of the dataframe\n",
        "summary = data_df.describe()\n",
        "\n",
        "# Print the summary statistics\n",
        "print(summary)"
      ]
    },
    {
      "cell_type": "code",
      "execution_count": null,
      "metadata": {
        "colab": {
          "base_uri": "https://localhost:8080/",
          "height": 1000
        },
        "id": "o8mA-9CyjrN6",
        "outputId": "57f78347-d856-4026-b665-5f4eba421d63"
      },
      "outputs": [
        {
          "data": {
            "image/png": "[encoded data removed]",
            "text/plain": [
              "<Figure size 640x480 with 1 Axes>"
            ]
          },
          "metadata": {},
          "output_type": "display_data"
        },
        {
          "data": {
            "image/png": "[encoded data removed]",
            "text/plain": [
              "<Figure size 640x480 with 1 Axes>"
            ]
          },
          "metadata": {},
          "output_type": "display_data"
        },
        {
          "name": "stdout",
          "output_type": "stream",
          "text": [
            "Skipped Title due to non-numeric data\n",
            "Skipped Review Text due to non-numeric data\n"
          ]
        },
        {
          "data": {
            "image/png": "[encoded data removed]",
            "text/plain": [
              "<Figure size 640x480 with 1 Axes>"
            ]
          },
          "metadata": {},
          "output_type": "display_data"
        },
        {
          "data": {
            "image/png": "[encoded data removed]",
            "text/plain": [
              "<Figure size 640x480 with 1 Axes>"
            ]
          },
          "metadata": {},
          "output_type": "display_data"
        },
        {
          "data": {
            "image/png": "[encoded data removed]",
            "text/plain": [
              "<Figure size 640x480 with 1 Axes>"
            ]
          },
          "metadata": {},
          "output_type": "display_data"
        },
        {
          "name": "stdout",
          "output_type": "stream",
          "text": [
            "Skipped Division Name due to non-numeric data\n",
            "Skipped Department Name due to non-numeric data\n",
            "Skipped Class Name due to non-numeric data\n"
          ]
        },
        {
          "name": "stderr",
          "output_type": "stream",
          "text": [
            "<ipython-input-5-774a0cac6aad>:14: FutureWarning: The default value of numeric_only in DataFrame.corr is deprecated. In a future version, it will default to False. Select only valid columns or specify the value of numeric_only to silence this warning.\n",
            "  sns.heatmap(data_df.corr(), annot=True)\n"
          ]
        },
        {
          "data": {
            "image/png": "[encoded data removed]",
            "text/plain": [
              "<Figure size 640x480 with 2 Axes>"
            ]
          },
          "metadata": {},
          "output_type": "display_data"
        }
      ],
      "source": [
        "# Creating graphs for visualization\n",
        "# Loop through all columns in the DataFrame\n",
        "for column in data_df.columns:\n",
        "    # Check if the column data type is numeric\n",
        "    if pd.api.types.is_numeric_dtype(data_df[column]):\n",
        "        # Create a histogram for the column\n",
        "        plt.hist(data_df[column].dropna())\n",
        "        plt.title(f'Histogram of {column}')\n",
        "        plt.show()\n",
        "    else:\n",
        "        print(f'Skipped {column} due to non-numeric data')\n",
        "\n",
        "# Create a correlation heatmap after looping through all features\n",
        "sns.heatmap(data_df.corr(), annot=True)\n",
        "plt.show()"
      ]
    },
    {
      "cell_type": "markdown",
      "metadata": {
        "id": "GsS90i1IcSyH"
      },
      "source": [
        "### Explanation of Feature Importance in Predicting Ratings (Investigate role of features)"
      ]
    },
    {
      "cell_type": "code",
      "execution_count": null,
      "metadata": {
        "colab": {
          "base_uri": "https://localhost:8080/"
        },
        "id": "o8VQwA1_cgRi",
        "outputId": "ee25f3cf-22fb-427b-9632-35cb9fe80a90"
      },
      "outputs": [
        {
          "name": "stdout",
          "output_type": "stream",
          "text": [
            "  Training size: 18,788\n",
            "Validation size: 2,348\n",
            "      Test size: 2,350\n"
          ]
        }
      ],
      "source": [
        "# First, calculate the split sizes. 80% training, 10% validation, 10% test.\n",
        "train_size = int(0.8 * len(data_df))\n",
        "val_size = int(0.1 * len(data_df))\n",
        "test_size = len(data_df) - (train_size + val_size)\n",
        "\n",
        "# Sanity check the sizes.\n",
        "assert((train_size + val_size + test_size) == len(data_df))\n",
        "\n",
        "# Create a list of indeces for all of the samples in the dataset.\n",
        "indeces = np.arange(0, len(data_df))\n",
        "\n",
        "# Shuffle the indeces randomly.\n",
        "random.shuffle(indeces)\n",
        "\n",
        "# Get a list of indeces for each of the splits.\n",
        "train_idx = indeces[0:train_size]\n",
        "val_idx = indeces[train_size:(train_size + val_size)]\n",
        "test_idx = indeces[(train_size + val_size):]\n",
        "\n",
        "# Sanity check\n",
        "assert(len(train_idx) == train_size)\n",
        "assert(len(test_idx) == test_size)\n",
        "\n",
        "# With these lists, we can now select the corresponding dataframe rows using,\n",
        "# e.g., train_df = data_df.iloc[train_idx]\n",
        "\n",
        "print('  Training size: {:,}'.format(train_size))\n",
        "print('Validation size: {:,}'.format(val_size))\n",
        "print('      Test size: {:,}'.format(test_size))"
      ]
    },
    {
      "cell_type": "code",
      "execution_count": null,
      "metadata": {
        "id": "HlZ14wuEZNZd"
      },
      "outputs": [],
      "source": [
        "# Remove non-numberical data\n",
        "df_vis = data_df.drop(columns=[\"Title\", \"Review Text\", \"Division Name\", \"Department Name\", \"Class Name\"])"
      ]
    },
    {
      "cell_type": "code",
      "execution_count": null,
      "metadata": {
        "colab": {
          "base_uri": "https://localhost:8080/",
          "height": 564
        },
        "id": "ygZXtGVvjjpV",
        "outputId": "fd4655dc-59f3-4e44-c044-3c294166b4d2"
      },
      "outputs": [
        {
          "data": {
            "image/png": "[encoded data removed]",
            "text/plain": [
              "<Figure size 1000x600 with 1 Axes>"
            ]
          },
          "metadata": {},
          "output_type": "display_data"
        }
      ],
      "source": [
        "# Rating Feature\n",
        "X = df_vis.drop('Rating', axis=1)\n",
        "y = df_vis['Rating']\n",
        "\n",
        "# Create a Random Forest Regressor model\n",
        "model = RandomForestRegressor()\n",
        "\n",
        "# Fit the model\n",
        "model.fit(X, y)\n",
        "\n",
        "# Get feature importance\n",
        "importance = model.feature_importances_\n",
        "\n",
        "# Create a DataFrame for feature importances\n",
        "df_importance = pd.DataFrame({'Feature': X.columns, 'Importance': importance})\n",
        "\n",
        "# Sort the DataFrame by importance\n",
        "df_importance = df_importance.sort_values('Importance', ascending=False)\n",
        "\n",
        "# Plot the feature importances as a horizontal bar chart\n",
        "plt.figure(figsize=(10, 6))\n",
        "sns.barplot(x='Importance', y='Feature', data=df_importance, orient='h', color='skyblue')\n",
        "plt.title('Rating Feature Importance')\n",
        "plt.xlabel('Importance')\n",
        "plt.ylabel('Features')\n",
        "plt.show()\n"
      ]
    },
    {
      "cell_type": "code",
      "execution_count": null,
      "metadata": {
        "colab": {
          "base_uri": "https://localhost:8080/",
          "height": 564
        },
        "id": "vE_x7bHrX31r",
        "outputId": "cc3f675e-d7f7-45d0-e57b-5364ae5fb822"
      },
      "outputs": [
        {
          "data": {
            "image/png": "[encoded data removed]",
            "text/plain": [
              "<Figure size 1000x600 with 1 Axes>"
            ]
          },
          "metadata": {},
          "output_type": "display_data"
        }
      ],
      "source": [
        "# Recommended IND Feature\n",
        "X = df_vis.drop('Recommended IND', axis=1)\n",
        "y = df_vis['Recommended IND']\n",
        "\n",
        "# Fit the model\n",
        "model.fit(X, y)\n",
        "\n",
        "# Get feature importance\n",
        "importance = model.feature_importances_\n",
        "\n",
        "# Create a DataFrame for feature importances\n",
        "df_importance = pd.DataFrame({'Feature': X.columns, 'Importance': importance})\n",
        "\n",
        "# Sort the DataFrame by importance\n",
        "df_importance = df_importance.sort_values('Importance', ascending=False)\n",
        "\n",
        "# Plot the feature importances as a horizontal bar chart\n",
        "plt.figure(figsize=(10, 6))\n",
        "sns.barplot(x='Importance', y='Feature', data=df_importance, orient='h',  color='skyblue')\n",
        "plt.title('Recommended IND Feature Importance')\n",
        "plt.xlabel('Importance')\n",
        "plt.ylabel('Features')\n",
        "plt.show()"
      ]
    },
    {
      "cell_type": "code",
      "execution_count": null,
      "metadata": {
        "colab": {
          "base_uri": "https://localhost:8080/",
          "height": 564
        },
        "id": "DoDNp44RYQb8",
        "outputId": "f140148c-2f7a-4a4f-9106-767fe631e6e4"
      },
      "outputs": [
        {
          "data": {
            "image/png": "[encoded data removed]",
            "text/plain": [
              "<Figure size 1000x600 with 1 Axes>"
            ]
          },
          "metadata": {},
          "output_type": "display_data"
        }
      ],
      "source": [
        "# Positive Feedback Count Feature\n",
        "X = df_vis.drop('Positive Feedback Count', axis=1)\n",
        "y = df_vis['Positive Feedback Count']\n",
        "\n",
        "# Fit the model\n",
        "model.fit(X, y)\n",
        "\n",
        "# Get feature importance\n",
        "importance = model.feature_importances_\n",
        "\n",
        "# Create a DataFrame for feature importances\n",
        "df_importance = pd.DataFrame({'Feature': X.columns, 'Importance': importance})\n",
        "\n",
        "# Sort the DataFrame by importance\n",
        "df_importance = df_importance.sort_values('Importance', ascending=False)\n",
        "\n",
        "# Plot the feature importances as a horizontal bar chart\n",
        "plt.figure(figsize=(10, 6))\n",
        "sns.barplot(x='Importance', y='Feature', data=df_importance, orient='h', color='skyblue')\n",
        "plt.title('Positive Feedback Count Feature Importance')\n",
        "plt.xlabel('Importance')\n",
        "plt.ylabel('Features')\n",
        "plt.show()\n"
      ]
    },
    {
      "cell_type": "code",
      "execution_count": null,
      "metadata": {
        "id": "D9k-6812KR1E"
      },
      "outputs": [],
      "source": [
        "# First, change the type of the specified columns to \"category\". This will\n",
        "# assign a \"code\" to each unique category value.\n",
        "data_df[\"Clothing ID\"] = data_df[\"Clothing ID\"].astype('category')\n",
        "data_df[\"Division Name\"] = data_df[\"Division Name\"].astype('category')\n",
        "data_df[\"Department Name\"] = data_df[\"Department Name\"].astype('category')\n",
        "data_df[\"Class Name\"] = data_df[\"Class Name\"].astype('category')\n",
        "\n",
        "# Second, replace the strings with their code values.\n",
        "data_df[\"Clothing ID\"] = data_df[\"Clothing ID\"].cat.codes\n",
        "data_df[\"Division Name\"] = data_df[\"Division Name\"].cat.codes\n",
        "data_df[\"Department Name\"] = data_df[\"Department Name\"].cat.codes\n",
        "data_df[\"Class Name\"] = data_df[\"Class Name\"].cat.codes\n"
      ]
    },
    {
      "cell_type": "code",
      "execution_count": null,
      "metadata": {
        "colab": {
          "base_uri": "https://localhost:8080/",
          "height": 206
        },
        "id": "ejeRd-pjKjY0",
        "outputId": "5d2ee4d7-7714-4885-fd92-ca4863b2abd9"
      },
      "outputs": [
        {
          "data": {
            "text/html": [
              "\n",
              "  <div id=\"df-0389799f-9044-48d3-83b4-a9497e3d7e88\" class=\"colab-df-container\">\n",
              "    <div>\n",
              "<style scoped>\n",
              "    .dataframe tbody tr th:only-of-type {\n",
              "        vertical-align: middle;\n",
              "    }\n",
              "\n",
              "    .dataframe tbody tr th {\n",
              "        vertical-align: top;\n",
              "    }\n",
              "\n",
              "    .dataframe thead th {\n",
              "        text-align: right;\n",
              "    }\n",
              "</style>\n",
              "<table border=\"1\" class=\"dataframe\">\n",
              "  <thead>\n",
              "    <tr style=\"text-align: right;\">\n",
              "      <th></th>\n",
              "      <th>Clothing ID</th>\n",
              "      <th>Age</th>\n",
              "      <th>Title</th>\n",
              "      <th>Review Text</th>\n",
              "      <th>Rating</th>\n",
              "      <th>Recommended IND</th>\n",
              "      <th>Positive Feedback Count</th>\n",
              "      <th>Division Name</th>\n",
              "      <th>Department Name</th>\n",
              "      <th>Class Name</th>\n",
              "    </tr>\n",
              "  </thead>\n",
              "  <tbody>\n",
              "    <tr>\n",
              "      <th>0</th>\n",
              "      <td>767</td>\n",
              "      <td>33.0</td>\n",
              "      <td>NaN</td>\n",
              "      <td>Absolutely wonderful - silky and sexy and comf...</td>\n",
              "      <td>4.0</td>\n",
              "      <td>1</td>\n",
              "      <td>0.0</td>\n",
              "      <td>2</td>\n",
              "      <td>2</td>\n",
              "      <td>5</td>\n",
              "    </tr>\n",
              "    <tr>\n",
              "      <th>1</th>\n",
              "      <td>1080</td>\n",
              "      <td>34.0</td>\n",
              "      <td>NaN</td>\n",
              "      <td>Love this dress!  it's sooo pretty.  i happene...</td>\n",
              "      <td>5.0</td>\n",
              "      <td>1</td>\n",
              "      <td>4.0</td>\n",
              "      <td>0</td>\n",
              "      <td>1</td>\n",
              "      <td>3</td>\n",
              "    </tr>\n",
              "    <tr>\n",
              "      <th>2</th>\n",
              "      <td>1077</td>\n",
              "      <td>60.0</td>\n",
              "      <td>Some major design flaws</td>\n",
              "      <td>I had such high hopes for this dress and reall...</td>\n",
              "      <td>3.0</td>\n",
              "      <td>0</td>\n",
              "      <td>0.0</td>\n",
              "      <td>0</td>\n",
              "      <td>1</td>\n",
              "      <td>3</td>\n",
              "    </tr>\n",
              "    <tr>\n",
              "      <th>3</th>\n",
              "      <td>1049</td>\n",
              "      <td>50.0</td>\n",
              "      <td>My favorite buy!</td>\n",
              "      <td>I love, love, love this jumpsuit. it's fun, fl...</td>\n",
              "      <td>5.0</td>\n",
              "      <td>1</td>\n",
              "      <td>0.0</td>\n",
              "      <td>1</td>\n",
              "      <td>0</td>\n",
              "      <td>13</td>\n",
              "    </tr>\n",
              "    <tr>\n",
              "      <th>4</th>\n",
              "      <td>847</td>\n",
              "      <td>47.0</td>\n",
              "      <td>Flattering shirt</td>\n",
              "      <td>This shirt is very flattering to all due to th...</td>\n",
              "      <td>5.0</td>\n",
              "      <td>1</td>\n",
              "      <td>6.0</td>\n",
              "      <td>0</td>\n",
              "      <td>4</td>\n",
              "      <td>0</td>\n",
              "    </tr>\n",
              "  </tbody>\n",
              "</table>\n",
              "</div>\n",
              "    <div class=\"colab-df-buttons\">\n",
              "\n",
              "  <div class=\"colab-df-container\">\n",
              "    <button class=\"colab-df-convert\" onclick=\"convertToInteractive('df-0389799f-9044-48d3-83b4-a9497e3d7e88')\"\n",
              "            title=\"Convert this dataframe to an interactive table.\"\n",
              "            style=\"display:none;\">\n",
              "\n",
              "  <svg xmlns=\"http://www.w3.org/2000/svg\" height=\"24px\" viewBox=\"0 -960 960 960\">\n",
              "    <path d=\"M120-120v-720h720v720H120Zm60-500h600v-160H180v160Zm220 220h160v-160H400v160Zm0 220h160v-160H400v160ZM180-400h160v-160H180v160Zm440 0h160v-160H620v160ZM180-180h160v-160H180v160Zm440 0h160v-160H620v160Z\"/>\n",
              "  </svg>\n",
              "    </button>\n",
              "\n",
              "  <style>\n",
              "    .colab-df-container {\n",
              "      display:flex;\n",
              "      gap: 12px;\n",
              "    }\n",
              "\n",
              "    .colab-df-convert {\n",
              "      background-color: #E8F0FE;\n",
              "      border: none;\n",
              "      border-radius: 50%;\n",
              "      cursor: pointer;\n",
              "      display: none;\n",
              "      fill: #1967D2;\n",
              "      height: 32px;\n",
              "      padding: 0 0 0 0;\n",
              "      width: 32px;\n",
              "    }\n",
              "\n",
              "    .colab-df-convert:hover {\n",
              "      background-color: #E2EBFA;\n",
              "      box-shadow: 0px 1px 2px rgba(60, 64, 67, 0.3), 0px 1px 3px 1px rgba(60, 64, 67, 0.15);\n",
              "      fill: #174EA6;\n",
              "    }\n",
              "\n",
              "    .colab-df-buttons div {\n",
              "      margin-bottom: 4px;\n",
              "    }\n",
              "\n",
              "    [theme=dark] .colab-df-convert {\n",
              "      background-color: #3B4455;\n",
              "      fill: #D2E3FC;\n",
              "    }\n",
              "\n",
              "    [theme=dark] .colab-df-convert:hover {\n",
              "      background-color: #434B5C;\n",
              "      box-shadow: 0px 1px 3px 1px rgba(0, 0, 0, 0.15);\n",
              "      filter: drop-shadow(0px 1px 2px rgba(0, 0, 0, 0.3));\n",
              "      fill: #FFFFFF;\n",
              "    }\n",
              "  </style>\n",
              "\n",
              "    <script>\n",
              "      const buttonEl =\n",
              "        document.querySelector('#df-0389799f-9044-48d3-83b4-a9497e3d7e88 button.colab-df-convert');\n",
              "      buttonEl.style.display =\n",
              "        google.colab.kernel.accessAllowed ? 'block' : 'none';\n",
              "\n",
              "      async function convertToInteractive(key) {\n",
              "        const element = document.querySelector('#df-0389799f-9044-48d3-83b4-a9497e3d7e88');\n",
              "        const dataTable =\n",
              "          await google.colab.kernel.invokeFunction('convertToInteractive',\n",
              "                                                    [key], {});\n",
              "        if (!dataTable) return;\n",
              "\n",
              "        const docLinkHtml = 'Like what you see? Visit the ' +\n",
              "          '<a target=\"_blank\" href=https://colab.research.google.com/notebooks/data_table.ipynb>data table notebook</a>'\n",
              "          + ' to learn more about interactive tables.';\n",
              "        element.innerHTML = '';\n",
              "        dataTable['output_type'] = 'display_data';\n",
              "        await google.colab.output.renderOutput(dataTable, element);\n",
              "        const docLink = document.createElement('div');\n",
              "        docLink.innerHTML = docLinkHtml;\n",
              "        element.appendChild(docLink);\n",
              "      }\n",
              "    </script>\n",
              "  </div>\n",
              "\n",
              "\n",
              "<div id=\"df-591aeef7-52d4-4af9-83bd-08c0d2ac6102\">\n",
              "  <button class=\"colab-df-quickchart\" onclick=\"quickchart('df-591aeef7-52d4-4af9-83bd-08c0d2ac6102')\"\n",
              "            title=\"Suggest charts\"\n",
              "            style=\"display:none;\">\n",
              "\n",
              "<svg xmlns=\"http://www.w3.org/2000/svg\" height=\"24px\"viewBox=\"0 0 24 24\"\n",
              "     width=\"24px\">\n",
              "    <g>\n",
              "        <path d=\"M19 3H5c-1.1 0-2 .9-2 2v14c0 1.1.9 2 2 2h14c1.1 0 2-.9 2-2V5c0-1.1-.9-2-2-2zM9 17H7v-7h2v7zm4 0h-2V7h2v10zm4 0h-2v-4h2v4z\"/>\n",
              "    </g>\n",
              "</svg>\n",
              "  </button>\n",
              "\n",
              "<style>\n",
              "  .colab-df-quickchart {\n",
              "      --bg-color: #E8F0FE;\n",
              "      --fill-color: #1967D2;\n",
              "      --hover-bg-color: #E2EBFA;\n",
              "      --hover-fill-color: #174EA6;\n",
              "      --disabled-fill-color: #AAA;\n",
              "      --disabled-bg-color: #DDD;\n",
              "  }\n",
              "\n",
              "  [theme=dark] .colab-df-quickchart {\n",
              "      --bg-color: #3B4455;\n",
              "      --fill-color: #D2E3FC;\n",
              "      --hover-bg-color: #434B5C;\n",
              "      --hover-fill-color: #FFFFFF;\n",
              "      --disabled-bg-color: #3B4455;\n",
              "      --disabled-fill-color: #666;\n",
              "  }\n",
              "\n",
              "  .colab-df-quickchart {\n",
              "    background-color: var(--bg-color);\n",
              "    border: none;\n",
              "    border-radius: 50%;\n",
              "    cursor: pointer;\n",
              "    display: none;\n",
              "    fill: var(--fill-color);\n",
              "    height: 32px;\n",
              "    padding: 0;\n",
              "    width: 32px;\n",
              "  }\n",
              "\n",
              "  .colab-df-quickchart:hover {\n",
              "    background-color: var(--hover-bg-color);\n",
              "    box-shadow: 0 1px 2px rgba(60, 64, 67, 0.3), 0 1px 3px 1px rgba(60, 64, 67, 0.15);\n",
              "    fill: var(--button-hover-fill-color);\n",
              "  }\n",
              "\n",
              "  .colab-df-quickchart-complete:disabled,\n",
              "  .colab-df-quickchart-complete:disabled:hover {\n",
              "    background-color: var(--disabled-bg-color);\n",
              "    fill: var(--disabled-fill-color);\n",
              "    box-shadow: none;\n",
              "  }\n",
              "\n",
              "  .colab-df-spinner {\n",
              "    border: 2px solid var(--fill-color);\n",
              "    border-color: transparent;\n",
              "    border-bottom-color: var(--fill-color);\n",
              "    animation:\n",
              "      spin 1s steps(1) infinite;\n",
              "  }\n",
              "\n",
              "  @keyframes spin {\n",
              "    0% {\n",
              "      border-color: transparent;\n",
              "      border-bottom-color: var(--fill-color);\n",
              "      border-left-color: var(--fill-color);\n",
              "    }\n",
              "    20% {\n",
              "      border-color: transparent;\n",
              "      border-left-color: var(--fill-color);\n",
              "      border-top-color: var(--fill-color);\n",
              "    }\n",
              "    30% {\n",
              "      border-color: transparent;\n",
              "      border-left-color: var(--fill-color);\n",
              "      border-top-color: var(--fill-color);\n",
              "      border-right-color: var(--fill-color);\n",
              "    }\n",
              "    40% {\n",
              "      border-color: transparent;\n",
              "      border-right-color: var(--fill-color);\n",
              "      border-top-color: var(--fill-color);\n",
              "    }\n",
              "    60% {\n",
              "      border-color: transparent;\n",
              "      border-right-color: var(--fill-color);\n",
              "    }\n",
              "    80% {\n",
              "      border-color: transparent;\n",
              "      border-right-color: var(--fill-color);\n",
              "      border-bottom-color: var(--fill-color);\n",
              "    }\n",
              "    90% {\n",
              "      border-color: transparent;\n",
              "      border-bottom-color: var(--fill-color);\n",
              "    }\n",
              "  }\n",
              "</style>\n",
              "\n",
              "  <script>\n",
              "    async function quickchart(key) {\n",
              "      const quickchartButtonEl =\n",
              "        document.querySelector('#' + key + ' button');\n",
              "      quickchartButtonEl.disabled = true;  // To prevent multiple clicks.\n",
              "      quickchartButtonEl.classList.add('colab-df-spinner');\n",
              "      try {\n",
              "        const charts = await google.colab.kernel.invokeFunction(\n",
              "            'suggestCharts', [key], {});\n",
              "      } catch (error) {\n",
              "        console.error('Error during call to suggestCharts:', error);\n",
              "      }\n",
              "      quickchartButtonEl.classList.remove('colab-df-spinner');\n",
              "      quickchartButtonEl.classList.add('colab-df-quickchart-complete');\n",
              "    }\n",
              "    (() => {\n",
              "      let quickchartButtonEl =\n",
              "        document.querySelector('#df-591aeef7-52d4-4af9-83bd-08c0d2ac6102 button');\n",
              "      quickchartButtonEl.style.display =\n",
              "        google.colab.kernel.accessAllowed ? 'block' : 'none';\n",
              "    })();\n",
              "  </script>\n",
              "</div>\n",
              "    </div>\n",
              "  </div>\n"
            ],
            "text/plain": [
              "   Clothing ID   Age                    Title  \\\n",
              "0          767  33.0                      NaN   \n",
              "1         1080  34.0                      NaN   \n",
              "2         1077  60.0  Some major design flaws   \n",
              "3         1049  50.0         My favorite buy!   \n",
              "4          847  47.0         Flattering shirt   \n",
              "\n",
              "                                         Review Text  Rating  Recommended IND  \\\n",
              "0  Absolutely wonderful - silky and sexy and comf...     4.0                1   \n",
              "1  Love this dress!  it's sooo pretty.  i happene...     5.0                1   \n",
              "2  I had such high hopes for this dress and reall...     3.0                0   \n",
              "3  I love, love, love this jumpsuit. it's fun, fl...     5.0                1   \n",
              "4  This shirt is very flattering to all due to th...     5.0                1   \n",
              "\n",
              "   Positive Feedback Count  Division Name  Department Name  Class Name  \n",
              "0                      0.0              2                2           5  \n",
              "1                      4.0              0                1           3  \n",
              "2                      0.0              0                1           3  \n",
              "3                      0.0              1                0          13  \n",
              "4                      6.0              0                4           0  "
            ]
          },
          "execution_count": 12,
          "metadata": {},
          "output_type": "execute_result"
        }
      ],
      "source": [
        "# Cast the numerical features to floats.\n",
        "data_df[\"Age\"] = data_df[\"Age\"].astype('float')\n",
        "data_df[\"Rating\"] = data_df[\"Rating\"].astype('float')\n",
        "data_df[\"Positive Feedback Count\"] = data_df[\"Positive Feedback Count\"].astype('float')\n",
        "\n",
        "data_df.head()"
      ]
    },
    {
      "cell_type": "code",
      "execution_count": null,
      "metadata": {
        "colab": {
          "base_uri": "https://localhost:8080/",
          "height": 206
        },
        "id": "5_CpX3jVd5CQ",
        "outputId": "74a4b190-8c85-4b27-d444-9852e66f3b8b"
      },
      "outputs": [
        {
          "data": {
            "text/html": [
              "\n",
              "  <div id=\"df-7b4d5e2e-cdfe-4a61-ab77-408ec95cd05a\" class=\"colab-df-container\">\n",
              "    <div>\n",
              "<style scoped>\n",
              "    .dataframe tbody tr th:only-of-type {\n",
              "        vertical-align: middle;\n",
              "    }\n",
              "\n",
              "    .dataframe tbody tr th {\n",
              "        vertical-align: top;\n",
              "    }\n",
              "\n",
              "    .dataframe thead th {\n",
              "        text-align: right;\n",
              "    }\n",
              "</style>\n",
              "<table border=\"1\" class=\"dataframe\">\n",
              "  <thead>\n",
              "    <tr style=\"text-align: right;\">\n",
              "      <th></th>\n",
              "      <th>Age</th>\n",
              "      <th>Rating</th>\n",
              "      <th>Recommended IND</th>\n",
              "      <th>Positive Feedback Count</th>\n",
              "      <th>Division Name</th>\n",
              "      <th>Department Name</th>\n",
              "      <th>Class Name</th>\n",
              "    </tr>\n",
              "  </thead>\n",
              "  <tbody>\n",
              "    <tr>\n",
              "      <th>6707</th>\n",
              "      <td>27.0</td>\n",
              "      <td>5.0</td>\n",
              "      <td>1</td>\n",
              "      <td>0.0</td>\n",
              "      <td>0</td>\n",
              "      <td>4</td>\n",
              "      <td>8</td>\n",
              "    </tr>\n",
              "    <tr>\n",
              "      <th>10232</th>\n",
              "      <td>34.0</td>\n",
              "      <td>4.0</td>\n",
              "      <td>1</td>\n",
              "      <td>1.0</td>\n",
              "      <td>0</td>\n",
              "      <td>4</td>\n",
              "      <td>8</td>\n",
              "    </tr>\n",
              "    <tr>\n",
              "      <th>13532</th>\n",
              "      <td>69.0</td>\n",
              "      <td>4.0</td>\n",
              "      <td>1</td>\n",
              "      <td>3.0</td>\n",
              "      <td>0</td>\n",
              "      <td>0</td>\n",
              "      <td>15</td>\n",
              "    </tr>\n",
              "    <tr>\n",
              "      <th>9230</th>\n",
              "      <td>48.0</td>\n",
              "      <td>5.0</td>\n",
              "      <td>1</td>\n",
              "      <td>1.0</td>\n",
              "      <td>0</td>\n",
              "      <td>1</td>\n",
              "      <td>3</td>\n",
              "    </tr>\n",
              "    <tr>\n",
              "      <th>20364</th>\n",
              "      <td>47.0</td>\n",
              "      <td>5.0</td>\n",
              "      <td>1</td>\n",
              "      <td>1.0</td>\n",
              "      <td>1</td>\n",
              "      <td>1</td>\n",
              "      <td>3</td>\n",
              "    </tr>\n",
              "  </tbody>\n",
              "</table>\n",
              "</div>\n",
              "    <div class=\"colab-df-buttons\">\n",
              "\n",
              "  <div class=\"colab-df-container\">\n",
              "    <button class=\"colab-df-convert\" onclick=\"convertToInteractive('df-7b4d5e2e-cdfe-4a61-ab77-408ec95cd05a')\"\n",
              "            title=\"Convert this dataframe to an interactive table.\"\n",
              "            style=\"display:none;\">\n",
              "\n",
              "  <svg xmlns=\"http://www.w3.org/2000/svg\" height=\"24px\" viewBox=\"0 -960 960 960\">\n",
              "    <path d=\"M120-120v-720h720v720H120Zm60-500h600v-160H180v160Zm220 220h160v-160H400v160Zm0 220h160v-160H400v160ZM180-400h160v-160H180v160Zm440 0h160v-160H620v160ZM180-180h160v-160H180v160Zm440 0h160v-160H620v160Z\"/>\n",
              "  </svg>\n",
              "    </button>\n",
              "\n",
              "  <style>\n",
              "    .colab-df-container {\n",
              "      display:flex;\n",
              "      gap: 12px;\n",
              "    }\n",
              "\n",
              "    .colab-df-convert {\n",
              "      background-color: #E8F0FE;\n",
              "      border: none;\n",
              "      border-radius: 50%;\n",
              "      cursor: pointer;\n",
              "      display: none;\n",
              "      fill: #1967D2;\n",
              "      height: 32px;\n",
              "      padding: 0 0 0 0;\n",
              "      width: 32px;\n",
              "    }\n",
              "\n",
              "    .colab-df-convert:hover {\n",
              "      background-color: #E2EBFA;\n",
              "      box-shadow: 0px 1px 2px rgba(60, 64, 67, 0.3), 0px 1px 3px 1px rgba(60, 64, 67, 0.15);\n",
              "      fill: #174EA6;\n",
              "    }\n",
              "\n",
              "    .colab-df-buttons div {\n",
              "      margin-bottom: 4px;\n",
              "    }\n",
              "\n",
              "    [theme=dark] .colab-df-convert {\n",
              "      background-color: #3B4455;\n",
              "      fill: #D2E3FC;\n",
              "    }\n",
              "\n",
              "    [theme=dark] .colab-df-convert:hover {\n",
              "      background-color: #434B5C;\n",
              "      box-shadow: 0px 1px 3px 1px rgba(0, 0, 0, 0.15);\n",
              "      filter: drop-shadow(0px 1px 2px rgba(0, 0, 0, 0.3));\n",
              "      fill: #FFFFFF;\n",
              "    }\n",
              "  </style>\n",
              "\n",
              "    <script>\n",
              "      const buttonEl =\n",
              "        document.querySelector('#df-7b4d5e2e-cdfe-4a61-ab77-408ec95cd05a button.colab-df-convert');\n",
              "      buttonEl.style.display =\n",
              "        google.colab.kernel.accessAllowed ? 'block' : 'none';\n",
              "\n",
              "      async function convertToInteractive(key) {\n",
              "        const element = document.querySelector('#df-7b4d5e2e-cdfe-4a61-ab77-408ec95cd05a');\n",
              "        const dataTable =\n",
              "          await google.colab.kernel.invokeFunction('convertToInteractive',\n",
              "                                                    [key], {});\n",
              "        if (!dataTable) return;\n",
              "\n",
              "        const docLinkHtml = 'Like what you see? Visit the ' +\n",
              "          '<a target=\"_blank\" href=https://colab.research.google.com/notebooks/data_table.ipynb>data table notebook</a>'\n",
              "          + ' to learn more about interactive tables.';\n",
              "        element.innerHTML = '';\n",
              "        dataTable['output_type'] = 'display_data';\n",
              "        await google.colab.output.renderOutput(dataTable, element);\n",
              "        const docLink = document.createElement('div');\n",
              "        docLink.innerHTML = docLinkHtml;\n",
              "        element.appendChild(docLink);\n",
              "      }\n",
              "    </script>\n",
              "  </div>\n",
              "\n",
              "\n",
              "<div id=\"df-e2c0345b-8f09-40bb-a79c-e1fa3e8ee9a9\">\n",
              "  <button class=\"colab-df-quickchart\" onclick=\"quickchart('df-e2c0345b-8f09-40bb-a79c-e1fa3e8ee9a9')\"\n",
              "            title=\"Suggest charts\"\n",
              "            style=\"display:none;\">\n",
              "\n",
              "<svg xmlns=\"http://www.w3.org/2000/svg\" height=\"24px\"viewBox=\"0 0 24 24\"\n",
              "     width=\"24px\">\n",
              "    <g>\n",
              "        <path d=\"M19 3H5c-1.1 0-2 .9-2 2v14c0 1.1.9 2 2 2h14c1.1 0 2-.9 2-2V5c0-1.1-.9-2-2-2zM9 17H7v-7h2v7zm4 0h-2V7h2v10zm4 0h-2v-4h2v4z\"/>\n",
              "    </g>\n",
              "</svg>\n",
              "  </button>\n",
              "\n",
              "<style>\n",
              "  .colab-df-quickchart {\n",
              "      --bg-color: #E8F0FE;\n",
              "      --fill-color: #1967D2;\n",
              "      --hover-bg-color: #E2EBFA;\n",
              "      --hover-fill-color: #174EA6;\n",
              "      --disabled-fill-color: #AAA;\n",
              "      --disabled-bg-color: #DDD;\n",
              "  }\n",
              "\n",
              "  [theme=dark] .colab-df-quickchart {\n",
              "      --bg-color: #3B4455;\n",
              "      --fill-color: #D2E3FC;\n",
              "      --hover-bg-color: #434B5C;\n",
              "      --hover-fill-color: #FFFFFF;\n",
              "      --disabled-bg-color: #3B4455;\n",
              "      --disabled-fill-color: #666;\n",
              "  }\n",
              "\n",
              "  .colab-df-quickchart {\n",
              "    background-color: var(--bg-color);\n",
              "    border: none;\n",
              "    border-radius: 50%;\n",
              "    cursor: pointer;\n",
              "    display: none;\n",
              "    fill: var(--fill-color);\n",
              "    height: 32px;\n",
              "    padding: 0;\n",
              "    width: 32px;\n",
              "  }\n",
              "\n",
              "  .colab-df-quickchart:hover {\n",
              "    background-color: var(--hover-bg-color);\n",
              "    box-shadow: 0 1px 2px rgba(60, 64, 67, 0.3), 0 1px 3px 1px rgba(60, 64, 67, 0.15);\n",
              "    fill: var(--button-hover-fill-color);\n",
              "  }\n",
              "\n",
              "  .colab-df-quickchart-complete:disabled,\n",
              "  .colab-df-quickchart-complete:disabled:hover {\n",
              "    background-color: var(--disabled-bg-color);\n",
              "    fill: var(--disabled-fill-color);\n",
              "    box-shadow: none;\n",
              "  }\n",
              "\n",
              "  .colab-df-spinner {\n",
              "    border: 2px solid var(--fill-color);\n",
              "    border-color: transparent;\n",
              "    border-bottom-color: var(--fill-color);\n",
              "    animation:\n",
              "      spin 1s steps(1) infinite;\n",
              "  }\n",
              "\n",
              "  @keyframes spin {\n",
              "    0% {\n",
              "      border-color: transparent;\n",
              "      border-bottom-color: var(--fill-color);\n",
              "      border-left-color: var(--fill-color);\n",
              "    }\n",
              "    20% {\n",
              "      border-color: transparent;\n",
              "      border-left-color: var(--fill-color);\n",
              "      border-top-color: var(--fill-color);\n",
              "    }\n",
              "    30% {\n",
              "      border-color: transparent;\n",
              "      border-left-color: var(--fill-color);\n",
              "      border-top-color: var(--fill-color);\n",
              "      border-right-color: var(--fill-color);\n",
              "    }\n",
              "    40% {\n",
              "      border-color: transparent;\n",
              "      border-right-color: var(--fill-color);\n",
              "      border-top-color: var(--fill-color);\n",
              "    }\n",
              "    60% {\n",
              "      border-color: transparent;\n",
              "      border-right-color: var(--fill-color);\n",
              "    }\n",
              "    80% {\n",
              "      border-color: transparent;\n",
              "      border-right-color: var(--fill-color);\n",
              "      border-bottom-color: var(--fill-color);\n",
              "    }\n",
              "    90% {\n",
              "      border-color: transparent;\n",
              "      border-bottom-color: var(--fill-color);\n",
              "    }\n",
              "  }\n",
              "</style>\n",
              "\n",
              "  <script>\n",
              "    async function quickchart(key) {\n",
              "      const quickchartButtonEl =\n",
              "        document.querySelector('#' + key + ' button');\n",
              "      quickchartButtonEl.disabled = true;  // To prevent multiple clicks.\n",
              "      quickchartButtonEl.classList.add('colab-df-spinner');\n",
              "      try {\n",
              "        const charts = await google.colab.kernel.invokeFunction(\n",
              "            'suggestCharts', [key], {});\n",
              "      } catch (error) {\n",
              "        console.error('Error during call to suggestCharts:', error);\n",
              "      }\n",
              "      quickchartButtonEl.classList.remove('colab-df-spinner');\n",
              "      quickchartButtonEl.classList.add('colab-df-quickchart-complete');\n",
              "    }\n",
              "    (() => {\n",
              "      let quickchartButtonEl =\n",
              "        document.querySelector('#df-e2c0345b-8f09-40bb-a79c-e1fa3e8ee9a9 button');\n",
              "      quickchartButtonEl.style.display =\n",
              "        google.colab.kernel.accessAllowed ? 'block' : 'none';\n",
              "    })();\n",
              "  </script>\n",
              "</div>\n",
              "    </div>\n",
              "  </div>\n"
            ],
            "text/plain": [
              "        Age  Rating  Recommended IND  Positive Feedback Count  Division Name  \\\n",
              "6707   27.0     5.0                1                      0.0              0   \n",
              "10232  34.0     4.0                1                      1.0              0   \n",
              "13532  69.0     4.0                1                      3.0              0   \n",
              "9230   48.0     5.0                1                      1.0              0   \n",
              "20364  47.0     5.0                1                      1.0              1   \n",
              "\n",
              "       Department Name  Class Name  \n",
              "6707                 4           8  \n",
              "10232                4           8  \n",
              "13532                0          15  \n",
              "9230                 1           3  \n",
              "20364                1           3  "
            ]
          },
          "execution_count": 13,
          "metadata": {},
          "output_type": "execute_result"
        }
      ],
      "source": [
        "# Retrieve the labels for each of the splits.\n",
        "y_train = data_df[\"Recommended IND\"].iloc[train_idx]\n",
        "y_val = data_df[\"Recommended IND\"].iloc[val_idx]\n",
        "y_test = data_df[\"Recommended IND\"].iloc[test_idx]\n",
        "\n",
        "# Before selecting the inputs, remove text columns and the labels.\n",
        "data_df = data_df.drop(columns=[\"Clothing ID\",\"Title\", \"Review Text\"])\n",
        "\n",
        "# Select the inputs for the different splits.\n",
        "X_train = data_df.iloc[train_idx]\n",
        "X_val = data_df.iloc[val_idx]\n",
        "X_test = data_df.iloc[test_idx]\n",
        "\n",
        "X_train.head()"
      ]
    },
    {
      "cell_type": "markdown",
      "metadata": {
        "id": "q7Ka61mgod-Y"
      },
      "source": [
        "## Part 2"
      ]
    },
    {
      "cell_type": "code",
      "execution_count": null,
      "metadata": {
        "colab": {
          "base_uri": "https://localhost:8080/"
        },
        "id": "TS7wMy0GnMgg",
        "outputId": "ddef7a2b-8884-47ef-cba9-5247beb93e4c"
      },
      "outputs": [
        {
          "name": "stdout",
          "output_type": "stream",
          "text": [
            "Linear Regression Training MSE: 2.2207181859239575e-31\n",
            "Linear Regression Validation MSE: 2.301561745874469e-31\n",
            "Decision Tree Training MSE: 0.0\n",
            "Decision Tree Validation MSE: 0.0\n",
            "KNN Training MSE: 8.516074089844582e-05\n",
            "KNN Validation MSE: 1.7035775127768315e-05\n",
            "Naive Bayes Training MSE: 0.0\n",
            "Naive Bayes Validation MSE: 0.0\n",
            "Logistic Regression Training MSE: 0.0\n",
            "Logistic Regression Validation MSE: 0.0\n",
            "SVM Training MSE: 0.002506580384105429\n",
            "SVM Validation MSE: 0.002654898941552353\n"
          ]
        }
      ],
      "source": [
        "from sklearn.linear_model import LinearRegression, LogisticRegression\n",
        "from sklearn.tree import DecisionTreeRegressor\n",
        "from sklearn.neighbors import KNeighborsRegressor\n",
        "from sklearn.naive_bayes import GaussianNB\n",
        "from sklearn.svm import SVR\n",
        "from sklearn.metrics import mean_squared_error\n",
        "from sklearn.preprocessing import StandardScaler\n",
        "\n",
        "# Scale your data\n",
        "scaler = StandardScaler()\n",
        "X_train_scaled = scaler.fit_transform(X_train)\n",
        "X_val_scaled = scaler.transform(X_val)\n",
        "\n",
        "# List of models\n",
        "models = [\n",
        "    (\"Linear Regression\", LinearRegression()),\n",
        "    (\"Decision Tree\", DecisionTreeRegressor()),\n",
        "    (\"KNN\", KNeighborsRegressor()),\n",
        "    (\"Naive Bayes\", GaussianNB()),\n",
        "    (\"Logistic Regression\", LogisticRegression(max_iter=1000)),  # Increase max_iter\n",
        "    (\"SVM\", SVR())\n",
        "]\n",
        "\n",
        "# Apply each model\n",
        "for name, model in models:\n",
        "    # Fit the model\n",
        "    model.fit(X_train_scaled, y_train)  # Use scaled data\n",
        "\n",
        "    # Make predictions on the training set\n",
        "    y_pred_train = model.predict(X_train_scaled)  # Use scaled data\n",
        "\n",
        "    # Calculate the mean squared error on the training set\n",
        "    mse_train = mean_squared_error(y_train, y_pred_train)\n",
        "\n",
        "    # Print the MSE for the training set\n",
        "    print(f\"{name} Training MSE: {mse_train}\")\n",
        "\n",
        "    # Make predictions on the validation set\n",
        "    y_pred_val = model.predict(X_val_scaled)  # Use scaled data\n",
        "\n",
        "    # Calculate the mean squared error on the validation set\n",
        "    mse_val = mean_squared_error(y_val, y_pred_val)\n",
        "\n",
        "    # Print the MSE for the validation set\n",
        "    print(f\"{name} Validation MSE: {mse_val}\")\n"
      ]
    },
    {
      "cell_type": "code",
      "execution_count": null,
      "metadata": {
        "colab": {
          "base_uri": "https://localhost:8080/"
        },
        "id": "-Pr0T3oDpK68",
        "outputId": "e580b59e-98f0-4be6-d59b-b9f1a5d3295d"
      },
      "outputs": [
        {
          "name": "stdout",
          "output_type": "stream",
          "text": [
            "Random Forest (Bagging) Training MSE: 0.0\n",
            "AdaBoost (Boosting) Training MSE: 0.0\n",
            "Gradient Boosting (Boosting) Training MSE: 1.0181132194863817e-10\n"
          ]
        }
      ],
      "source": [
        "from sklearn.ensemble import RandomForestRegressor, AdaBoostRegressor, GradientBoostingRegressor\n",
        "from sklearn.metrics import mean_squared_error\n",
        "from sklearn.preprocessing import StandardScaler\n",
        "\n",
        "# List of models\n",
        "models = [\n",
        "    (\"Random Forest (Bagging)\", RandomForestRegressor()),\n",
        "    (\"AdaBoost (Boosting)\", AdaBoostRegressor()),\n",
        "    (\"Gradient Boosting (Boosting)\", GradientBoostingRegressor())\n",
        "]\n",
        "\n",
        "# Apply each model\n",
        "for name, model in models:\n",
        "    # Scale data\n",
        "    scaler = StandardScaler()\n",
        "    X_train_scaled = scaler.fit_transform(X_train)\n",
        "\n",
        "    # Fit the model\n",
        "    model.fit(X_train_scaled, y_train)  # Use scaled data\n",
        "\n",
        "    # Make predictions on the training set\n",
        "    y_train_pred = model.predict(X_train_scaled)\n",
        "\n",
        "    # Calculate the mean squared error on the training set\n",
        "    mse_train = mean_squared_error(y_train, y_train_pred)\n",
        "\n",
        "    # Print the MSE for the training set\n",
        "    print(f\"{name} Training MSE: {mse_train}\")"
      ]
    },
    {
      "cell_type": "markdown",
      "metadata": {
        "id": "2VVXm6cgohXu"
      },
      "source": [
        "## Part 3"
      ]
    },
    {
      "cell_type": "code",
      "execution_count": null,
      "metadata": {
        "colab": {
          "base_uri": "https://localhost:8080/"
        },
        "id": "XZeArjohXhhZ",
        "outputId": "3bc72634-cf19-4b5c-c804-b480075a8130"
      },
      "outputs": [
        {
          "name": "stdout",
          "output_type": "stream",
          "text": [
            "(18788, 7)\n"
          ]
        }
      ],
      "source": [
        "print(X_train_scaled.shape)"
      ]
    },
    {
      "cell_type": "code",
      "execution_count": null,
      "metadata": {
        "colab": {
          "base_uri": "https://localhost:8080/"
        },
        "id": "YrRptHC2Th1Z",
        "outputId": "f2580731-6f52-4dda-fa4d-8ba8279943bf"
      },
      "outputs": [
        {
          "name": "stdout",
          "output_type": "stream",
          "text": [
            "[[-1.32086951  0.72065353  0.46040487 ... -0.76886155  1.00716247\n",
            "   0.20889115]\n",
            " [-0.75030976 -0.18500791  0.46040487 ... -0.76886155  1.00716247\n",
            "   0.20889115]\n",
            " [ 2.102489   -0.18500791  0.46040487 ... -0.76886155 -1.44569494\n",
            "   1.55498985]\n",
            " ...\n",
            " [ 0.0647756  -1.09066935  0.46040487 ... -0.76886155 -0.83248059\n",
            "  -0.75260792]\n",
            " [-0.34276708  0.72065353  0.46040487 ...  0.85750309 -0.83248059\n",
            "  -0.75260792]\n",
            " [ 0.22779267  0.72065353  0.46040487 ...  2.48386773 -0.21926624\n",
            "   2.1318893 ]]\n"
          ]
        }
      ],
      "source": [
        "print(X_train_scaled)"
      ]
    },
    {
      "cell_type": "markdown",
      "metadata": {
        "id": "5NQtiaKrojjA"
      },
      "source": [
        "### FFNN"
      ]
    },
    {
      "cell_type": "code",
      "execution_count": null,
      "metadata": {
        "colab": {
          "base_uri": "https://localhost:8080/"
        },
        "id": "UCAEpXrrSX-T",
        "outputId": "22c087fd-3657-4bc8-815f-ddcaf1e55709"
      },
      "outputs": [
        {
          "name": "stdout",
          "output_type": "stream",
          "text": [
            "Epoch 1/20\n",
            "588/588 [==============================] - 16s 26ms/step - loss: 0.0815 - accuracy: 0.9699 - val_loss: 5.1106e-04 - val_accuracy: 1.0000\n",
            "Epoch 2/20\n",
            "588/588 [==============================] - 16s 27ms/step - loss: 2.5395e-04 - accuracy: 1.0000 - val_loss: 1.2368e-04 - val_accuracy: 1.0000\n",
            "Epoch 3/20\n",
            "588/588 [==============================] - 15s 25ms/step - loss: 7.8074e-05 - accuracy: 1.0000 - val_loss: 4.6286e-05 - val_accuracy: 1.0000\n",
            "Epoch 4/20\n",
            "588/588 [==============================] - 15s 26ms/step - loss: 3.1464e-05 - accuracy: 1.0000 - val_loss: 2.1887e-05 - val_accuracy: 1.0000\n",
            "Epoch 5/20\n",
            "588/588 [==============================] - 16s 27ms/step - loss: 1.4733e-05 - accuracy: 1.0000 - val_loss: 1.0063e-05 - val_accuracy: 1.0000\n",
            "Epoch 6/20\n",
            "588/588 [==============================] - 17s 29ms/step - loss: 7.5554e-06 - accuracy: 1.0000 - val_loss: 5.4705e-06 - val_accuracy: 1.0000\n",
            "Epoch 7/20\n",
            "588/588 [==============================] - 16s 27ms/step - loss: 4.2249e-06 - accuracy: 1.0000 - val_loss: 3.2273e-06 - val_accuracy: 1.0000\n",
            "Epoch 8/20\n",
            "588/588 [==============================] - 17s 28ms/step - loss: 2.5368e-06 - accuracy: 1.0000 - val_loss: 1.9743e-06 - val_accuracy: 1.0000\n",
            "Epoch 9/20\n",
            "588/588 [==============================] - 14s 24ms/step - loss: 1.5943e-06 - accuracy: 1.0000 - val_loss: 1.2652e-06 - val_accuracy: 1.0000\n",
            "Epoch 10/20\n",
            "588/588 [==============================] - 17s 28ms/step - loss: 1.0325e-06 - accuracy: 1.0000 - val_loss: 8.2054e-07 - val_accuracy: 1.0000\n",
            "Epoch 11/20\n",
            "588/588 [==============================] - 16s 27ms/step - loss: 6.8914e-07 - accuracy: 1.0000 - val_loss: 5.5060e-07 - val_accuracy: 1.0000\n",
            "Epoch 12/20\n",
            "588/588 [==============================] - 16s 27ms/step - loss: 4.7016e-07 - accuracy: 1.0000 - val_loss: 3.7888e-07 - val_accuracy: 1.0000\n",
            "Epoch 13/20\n",
            "588/588 [==============================] - 15s 26ms/step - loss: 3.2534e-07 - accuracy: 1.0000 - val_loss: 2.6919e-07 - val_accuracy: 1.0000\n",
            "Epoch 14/20\n",
            "588/588 [==============================] - 16s 26ms/step - loss: 2.2959e-07 - accuracy: 1.0000 - val_loss: 1.8799e-07 - val_accuracy: 1.0000\n",
            "Epoch 15/20\n",
            "588/588 [==============================] - 15s 26ms/step - loss: 1.6434e-07 - accuracy: 1.0000 - val_loss: 1.3670e-07 - val_accuracy: 1.0000\n",
            "Epoch 16/20\n",
            "588/588 [==============================] - 15s 25ms/step - loss: 1.1983e-07 - accuracy: 1.0000 - val_loss: 9.8939e-08 - val_accuracy: 1.0000\n",
            "Epoch 17/20\n",
            "588/588 [==============================] - 16s 26ms/step - loss: 8.8434e-08 - accuracy: 1.0000 - val_loss: 7.4159e-08 - val_accuracy: 1.0000\n",
            "Epoch 18/20\n",
            "588/588 [==============================] - 16s 27ms/step - loss: 6.6120e-08 - accuracy: 1.0000 - val_loss: 5.5085e-08 - val_accuracy: 1.0000\n",
            "Epoch 19/20\n",
            "588/588 [==============================] - 16s 27ms/step - loss: 5.0304e-08 - accuracy: 1.0000 - val_loss: 4.2186e-08 - val_accuracy: 1.0000\n",
            "Epoch 20/20\n",
            "588/588 [==============================] - 15s 25ms/step - loss: 3.8833e-08 - accuracy: 1.0000 - val_loss: 3.3678e-08 - val_accuracy: 1.0000\n"
          ]
        }
      ],
      "source": [
        "from keras.models import Sequential\n",
        "from keras.layers import Dense\n",
        "#Feed Forward Neural Network\n",
        "model = Sequential()\n",
        "model.add(Dense(X_train.shape[0], input_dim=X_train.shape[1], activation='relu'))  # Input layer\n",
        "model.add(Dense(64, activation='relu'))  # Hidden layer\n",
        "model.add(Dense(1, activation='sigmoid'))  # Output layer\n",
        "\n",
        "# Compile the model\n",
        "model.compile(loss='binary_crossentropy', optimizer='adam', metrics=['accuracy'])\n",
        "\n",
        "# Train the model\n",
        "history = model.fit(X_train, y_train, epochs=20, batch_size=32, validation_data=(X_val, y_val))"
      ]
    },
    {
      "cell_type": "code",
      "execution_count": null,
      "metadata": {
        "colab": {
          "base_uri": "https://localhost:8080/"
        },
        "id": "S7cWq6CHUV47",
        "outputId": "e88c8411-def4-4cc9-9cdf-56f838be61f7"
      },
      "outputs": [
        {
          "name": "stdout",
          "output_type": "stream",
          "text": [
            "74/74 [==============================] - 0s 5ms/step\n",
            "MSE of Feed Forward Neural Network 2.1504778333899197e-14\n"
          ]
        }
      ],
      "source": [
        "y_pred_ffnn = model.predict(X_test)\n",
        "mse = mean_squared_error(y_test, y_pred_ffnn)\n",
        "print(\"MSE of Feed Forward Neural Network\", mse)"
      ]
    },
    {
      "cell_type": "code",
      "execution_count": null,
      "metadata": {
        "colab": {
          "base_uri": "https://localhost:8080/",
          "height": 556
        },
        "id": "bY785I-xZz7r",
        "outputId": "0d260c8c-d7f7-4cb5-bd05-d742e27ae293"
      },
      "outputs": [
        {
          "data": {
            "image/png": "[encoded data removed]",
            "text/plain": [
              "<Figure size 1200x600 with 1 Axes>"
            ]
          },
          "metadata": {},
          "output_type": "display_data"
        }
      ],
      "source": [
        "plt.figure(figsize=(12, 6))\n",
        "plt.subplot(1, 2, 1)\n",
        "plt.plot(history.history['loss'], c='b', label = 'Train Loss')\n",
        "plt.plot(history.history['val_loss'], c='r', label = 'Validation Loss')\n",
        "plt.legend()\n",
        "plt.grid()\n",
        "plt.xlabel('Epochs', fontsize=20)\n",
        "plt.ylabel('Loss', fontsize=20)\n",
        "plt.show()"
      ]
    },
    {
      "cell_type": "markdown",
      "metadata": {
        "id": "ITFU_JA_omUI"
      },
      "source": [
        "### RNN"
      ]
    },
    {
      "cell_type": "code",
      "execution_count": null,
      "metadata": {
        "id": "AzbEe0EJjZ9K"
      },
      "outputs": [],
      "source": [
        "#Recurrent Neural Network\n",
        "from keras.layers import SimpleRNN\n",
        "model = Sequential()\n",
        "model.add(SimpleRNN(50, activation='relu', input_shape=(X_train.shape[1], 1), return_sequences=True))  # RNN layer\n",
        "model.add(SimpleRNN(50, activation='relu'))  # Second RNN layer\n",
        "model.add(Dense(1))  # Output layer\n",
        "\n",
        "# Compile the model\n",
        "model.compile(optimizer='adam', loss='mse')\n",
        "\n",
        "# Train the model\n",
        "history = model.fit(X_train, y_train, epochs=20, verbose=0, validation_data = (X_val, y_val))\n"
      ]
    },
    {
      "cell_type": "code",
      "execution_count": null,
      "metadata": {
        "id": "i3Acfvl2sq_E"
      },
      "outputs": [],
      "source": [
        "y_pred_rnn = model.predict(X_test)\n",
        "mse = mean_squared_error(y_test, y_pred_rnn)\n",
        "print(\"MSE of Recurrent Neural Network\", mse)"
      ]
    },
    {
      "cell_type": "code",
      "execution_count": null,
      "metadata": {
        "id": "YKiyu-U-tDMz"
      },
      "outputs": [],
      "source": [
        "plt.figure(figsize=(12, 6))\n",
        "plt.subplot(1, 2, 1)\n",
        "plt.plot(history.history['loss'], c='b', label = 'Train Loss')\n",
        "plt.plot(history.history['val_loss'], c='r', label = 'Validation Loss')\n",
        "plt.legend()\n",
        "plt.grid()\n",
        "plt.xlabel('Epochs', fontsize=20)\n",
        "plt.ylabel('Loss', fontsize=20)\n",
        "plt.show()"
      ]
    },
    {
      "cell_type": "markdown",
      "metadata": {
        "id": "pWf5ryXCykne"
      },
      "source": [
        "## Part 4"
      ]
    },
    {
      "cell_type": "markdown",
      "metadata": {
        "id": "RMUO9VNVyb8l"
      },
      "source": [
        "### Applying overfitting prevention technique"
      ]
    },
    {
      "cell_type": "code",
      "execution_count": null,
      "metadata": {
        "colab": {
          "base_uri": "https://localhost:8080/"
        },
        "id": "JRQVUyFbtR5C",
        "outputId": "d99c21c3-35ff-4bb6-9ee9-95da4567c11c"
      },
      "outputs": [
        {
          "name": "stdout",
          "output_type": "stream",
          "text": [
            "Epoch 1/50\n",
            "588/588 [==============================] - 18s 28ms/step - loss: 0.4629 - accuracy: 0.8097 - val_loss: 0.4613 - val_accuracy: 0.8066\n",
            "Epoch 2/50\n",
            "588/588 [==============================] - 16s 27ms/step - loss: 0.4123 - accuracy: 0.8267 - val_loss: 0.4925 - val_accuracy: 0.8066\n",
            "Epoch 3/50\n",
            "588/588 [==============================] - 16s 27ms/step - loss: 0.2642 - accuracy: 0.9074 - val_loss: 0.1996 - val_accuracy: 0.9996\n",
            "Epoch 4/50\n",
            "588/588 [==============================] - 16s 28ms/step - loss: 0.1688 - accuracy: 0.9582 - val_loss: 0.0824 - val_accuracy: 0.9996\n",
            "Epoch 5/50\n",
            "588/588 [==============================] - 18s 30ms/step - loss: 0.1726 - accuracy: 0.9406 - val_loss: 0.0945 - val_accuracy: 0.9987\n",
            "Epoch 6/50\n",
            "588/588 [==============================] - 17s 29ms/step - loss: 0.1772 - accuracy: 0.9319 - val_loss: 0.0720 - val_accuracy: 1.0000\n",
            "Epoch 7/50\n",
            "588/588 [==============================] - 18s 30ms/step - loss: 0.2162 - accuracy: 0.8833 - val_loss: 0.1146 - val_accuracy: 0.9996\n",
            "Epoch 8/50\n",
            "588/588 [==============================] - 17s 30ms/step - loss: 0.1241 - accuracy: 0.9562 - val_loss: 0.0548 - val_accuracy: 0.9940\n",
            "Epoch 9/50\n",
            "588/588 [==============================] - 15s 26ms/step - loss: 0.1087 - accuracy: 0.9641 - val_loss: 0.0358 - val_accuracy: 1.0000\n",
            "Epoch 10/50\n",
            "588/588 [==============================] - 18s 30ms/step - loss: 0.1280 - accuracy: 0.9616 - val_loss: 0.0377 - val_accuracy: 1.0000\n",
            "Epoch 11/50\n",
            "588/588 [==============================] - 15s 25ms/step - loss: 0.1203 - accuracy: 0.9632 - val_loss: 0.0394 - val_accuracy: 1.0000\n",
            "Epoch 12/50\n",
            "588/588 [==============================] - 16s 27ms/step - loss: 0.1288 - accuracy: 0.9626 - val_loss: 0.0419 - val_accuracy: 1.0000\n",
            "Epoch 13/50\n",
            "588/588 [==============================] - 15s 25ms/step - loss: 0.1142 - accuracy: 0.9621 - val_loss: 0.0598 - val_accuracy: 0.9894\n",
            "Epoch 14/50\n",
            "588/588 [==============================] - 15s 26ms/step - loss: 0.0788 - accuracy: 0.9743 - val_loss: 0.0177 - val_accuracy: 1.0000\n",
            "Epoch 15/50\n",
            "588/588 [==============================] - 16s 27ms/step - loss: 0.0766 - accuracy: 0.9802 - val_loss: 0.0348 - val_accuracy: 1.0000\n",
            "Epoch 16/50\n",
            "588/588 [==============================] - 16s 27ms/step - loss: 0.0554 - accuracy: 0.9879 - val_loss: 0.0204 - val_accuracy: 1.0000\n",
            "Epoch 17/50\n",
            "588/588 [==============================] - 15s 25ms/step - loss: 0.0558 - accuracy: 0.9861 - val_loss: 0.0158 - val_accuracy: 1.0000\n",
            "Epoch 18/50\n",
            "588/588 [==============================] - 14s 24ms/step - loss: 0.0425 - accuracy: 0.9897 - val_loss: 0.0180 - val_accuracy: 0.9983\n",
            "Epoch 19/50\n",
            "588/588 [==============================] - 16s 27ms/step - loss: 0.0665 - accuracy: 0.9812 - val_loss: 0.0211 - val_accuracy: 1.0000\n",
            "Epoch 20/50\n",
            "588/588 [==============================] - 16s 28ms/step - loss: 0.0583 - accuracy: 0.9857 - val_loss: 0.0255 - val_accuracy: 0.9991\n",
            "Epoch 21/50\n",
            "588/588 [==============================] - 15s 25ms/step - loss: 0.0471 - accuracy: 0.9902 - val_loss: 0.0162 - val_accuracy: 0.9996\n",
            "Epoch 22/50\n",
            "588/588 [==============================] - 15s 25ms/step - loss: 0.0486 - accuracy: 0.9898 - val_loss: 0.0550 - val_accuracy: 0.9864\n",
            "Epoch 23/50\n",
            "588/588 [==============================] - 16s 27ms/step - loss: 0.0496 - accuracy: 0.9891 - val_loss: 0.3694 - val_accuracy: 0.9583\n",
            "Epoch 24/50\n",
            "588/588 [==============================] - 16s 28ms/step - loss: 0.0590 - accuracy: 0.9869 - val_loss: 0.0159 - val_accuracy: 1.0000\n",
            "Epoch 25/50\n",
            "588/588 [==============================] - 16s 28ms/step - loss: 0.0502 - accuracy: 0.9876 - val_loss: 0.0162 - val_accuracy: 0.9996\n",
            "Epoch 26/50\n",
            "588/588 [==============================] - 14s 24ms/step - loss: 0.0492 - accuracy: 0.9864 - val_loss: 0.0136 - val_accuracy: 1.0000\n",
            "Epoch 27/50\n",
            "588/588 [==============================] - 15s 26ms/step - loss: 0.0518 - accuracy: 0.9863 - val_loss: 0.0189 - val_accuracy: 0.9987\n",
            "Epoch 28/50\n",
            "588/588 [==============================] - 16s 28ms/step - loss: 0.0370 - accuracy: 0.9917 - val_loss: 0.0150 - val_accuracy: 1.0000\n",
            "Epoch 29/50\n",
            "588/588 [==============================] - 15s 26ms/step - loss: 0.0606 - accuracy: 0.9865 - val_loss: 0.0191 - val_accuracy: 1.0000\n",
            "Epoch 30/50\n",
            "588/588 [==============================] - 16s 27ms/step - loss: 0.0478 - accuracy: 0.9904 - val_loss: 0.0161 - val_accuracy: 1.0000\n",
            "Epoch 31/50\n",
            "588/588 [==============================] - 17s 29ms/step - loss: 0.0480 - accuracy: 0.9898 - val_loss: 0.0213 - val_accuracy: 0.9987\n",
            "Epoch 32/50\n",
            "588/588 [==============================] - 16s 27ms/step - loss: 0.0449 - accuracy: 0.9907 - val_loss: 0.0193 - val_accuracy: 0.9979\n",
            "Epoch 33/50\n",
            "588/588 [==============================] - 14s 24ms/step - loss: 0.0442 - accuracy: 0.9906 - val_loss: 0.0168 - val_accuracy: 1.0000\n",
            "Epoch 34/50\n",
            "588/588 [==============================] - 15s 26ms/step - loss: 0.0314 - accuracy: 0.9931 - val_loss: 0.0171 - val_accuracy: 1.0000\n",
            "Epoch 35/50\n",
            "588/588 [==============================] - 16s 27ms/step - loss: 0.0327 - accuracy: 0.9937 - val_loss: 0.0202 - val_accuracy: 0.9996\n",
            "Epoch 36/50\n",
            "588/588 [==============================] - 14s 25ms/step - loss: 0.0245 - accuracy: 0.9966 - val_loss: 1.4806 - val_accuracy: 0.6644\n",
            "Epoch 37/50\n",
            "588/588 [==============================] - 15s 25ms/step - loss: 0.0326 - accuracy: 0.9942 - val_loss: 0.0164 - val_accuracy: 1.0000\n",
            "Epoch 38/50\n",
            "588/588 [==============================] - 15s 26ms/step - loss: 0.0259 - accuracy: 0.9962 - val_loss: 0.0367 - val_accuracy: 0.9953\n",
            "Epoch 39/50\n",
            "588/588 [==============================] - 15s 25ms/step - loss: 0.0316 - accuracy: 0.9952 - val_loss: 0.0175 - val_accuracy: 1.0000\n",
            "Epoch 40/50\n",
            "588/588 [==============================] - 18s 30ms/step - loss: 0.0274 - accuracy: 0.9959 - val_loss: 0.0240 - val_accuracy: 0.9979\n",
            "Epoch 41/50\n",
            "588/588 [==============================] - 15s 26ms/step - loss: 0.0318 - accuracy: 0.9945 - val_loss: 0.0172 - val_accuracy: 1.0000\n",
            "Epoch 42/50\n",
            "588/588 [==============================] - 16s 27ms/step - loss: 0.0225 - accuracy: 0.9971 - val_loss: 0.0145 - val_accuracy: 0.9996\n",
            "Epoch 43/50\n",
            "588/588 [==============================] - 16s 27ms/step - loss: 0.0241 - accuracy: 0.9967 - val_loss: 0.0134 - val_accuracy: 1.0000\n",
            "Epoch 44/50\n",
            "588/588 [==============================] - 16s 27ms/step - loss: 0.0224 - accuracy: 0.9964 - val_loss: 0.0135 - val_accuracy: 0.9996\n",
            "Epoch 45/50\n",
            "588/588 [==============================] - 15s 25ms/step - loss: 0.0208 - accuracy: 0.9974 - val_loss: 0.0121 - val_accuracy: 1.0000\n",
            "Epoch 46/50\n",
            "588/588 [==============================] - 15s 26ms/step - loss: 0.0335 - accuracy: 0.9947 - val_loss: 0.0155 - val_accuracy: 1.0000\n",
            "Epoch 47/50\n",
            "588/588 [==============================] - 17s 30ms/step - loss: 0.0233 - accuracy: 0.9977 - val_loss: 0.0128 - val_accuracy: 1.0000\n",
            "Epoch 48/50\n",
            "588/588 [==============================] - 14s 24ms/step - loss: 0.0192 - accuracy: 0.9979 - val_loss: 0.0101 - val_accuracy: 1.0000\n",
            "Epoch 49/50\n",
            "588/588 [==============================] - 15s 26ms/step - loss: 0.0227 - accuracy: 0.9960 - val_loss: 0.0131 - val_accuracy: 0.9996\n",
            "Epoch 50/50\n",
            "588/588 [==============================] - 16s 27ms/step - loss: 0.0264 - accuracy: 0.9951 - val_loss: 0.0115 - val_accuracy: 1.0000\n"
          ]
        }
      ],
      "source": [
        "#Overfitting prevention technique\n",
        "\n",
        "from keras.layers import Dropout\n",
        "from keras.regularizers import l2\n",
        "from keras.callbacks import EarlyStopping\n",
        "from keras.layers import BatchNormalization\n",
        "\n",
        "#FFNN\n",
        "\n",
        "# Initialize the constructor\n",
        "model = Sequential()\n",
        "\n",
        "# Add an input layer with L2 regularization\n",
        "model.add(Dense(X_train.shape[0], activation='relu', input_dim=7, kernel_regularizer=l2(0.01)))\n",
        "\n",
        "# Add a hidden layer with dropout\n",
        "model.add(Dense(64, activation='relu'))\n",
        "model.add(Dropout(0.5))\n",
        "\n",
        "# Add batch normalization layer\n",
        "model.add(BatchNormalization())\n",
        "\n",
        "# Add an output layer\n",
        "model.add(Dense(1, activation='sigmoid'))\n",
        "\n",
        "# Set up early stopping\n",
        "es = EarlyStopping(monitor='val_loss', mode='min', verbose=1, patience=20)\n",
        "\n",
        "model.compile(loss='binary_crossentropy',\n",
        "              optimizer='adam',\n",
        "              metrics=['accuracy'])\n",
        "\n",
        "history = model.fit(X_train, y_train, epochs=50, batch_size=32, validation_data=(X_val, y_val), callbacks=[es])"
      ]
    },
    {
      "cell_type": "code",
      "execution_count": null,
      "metadata": {
        "colab": {
          "base_uri": "https://localhost:8080/",
          "height": 556
        },
        "id": "94muXzyAv7Cz",
        "outputId": "92b055b5-f3fe-4c32-9ca8-10a0aa984aae"
      },
      "outputs": [
        {
          "data": {
            "image/png": "[encoded data removed]",
            "text/plain": [
              "<Figure size 1200x600 with 1 Axes>"
            ]
          },
          "metadata": {},
          "output_type": "display_data"
        }
      ],
      "source": [
        "plt.figure(figsize=(12, 6))\n",
        "plt.subplot(1, 2, 1)\n",
        "plt.plot(history.history['loss'], c='b', label = 'Train Loss')\n",
        "plt.plot(history.history['val_loss'], c='r', label = 'Validation Loss')\n",
        "plt.legend()\n",
        "plt.grid()\n",
        "plt.xlabel('Epochs', fontsize=20)\n",
        "plt.ylabel('Loss', fontsize=20)\n",
        "plt.show()"
      ]
    },
    {
      "cell_type": "code",
      "execution_count": null,
      "metadata": {
        "colab": {
          "base_uri": "https://localhost:8080/"
        },
        "id": "LeSgbA7dxoR6",
        "outputId": "4763d8af-bb4a-41e2-d134-7d828a9bc91f"
      },
      "outputs": [
        {
          "name": "stdout",
          "output_type": "stream",
          "text": [
            "Epoch 1/50\n",
            "588/588 [==============================] - 7s 7ms/step - loss: 0.0736 - accuracy: 0.9869 - val_loss: 0.0109 - val_accuracy: 1.0000\n",
            "Epoch 2/50\n",
            "588/588 [==============================] - 4s 6ms/step - loss: 0.0086 - accuracy: 0.9998 - val_loss: 0.0034 - val_accuracy: 1.0000\n",
            "Epoch 3/50\n",
            "588/588 [==============================] - 4s 7ms/step - loss: 0.0042 - accuracy: 0.9994 - val_loss: 0.0017 - val_accuracy: 1.0000\n",
            "Epoch 4/50\n",
            "588/588 [==============================] - 4s 7ms/step - loss: 0.0084 - accuracy: 0.9985 - val_loss: 0.0016 - val_accuracy: 1.0000\n",
            "Epoch 5/50\n",
            "588/588 [==============================] - 4s 6ms/step - loss: 0.0019 - accuracy: 0.9999 - val_loss: 9.0744e-04 - val_accuracy: 1.0000\n",
            "Epoch 6/50\n",
            "588/588 [==============================] - 3s 6ms/step - loss: 0.0052 - accuracy: 0.9988 - val_loss: 0.0019 - val_accuracy: 1.0000\n",
            "Epoch 7/50\n",
            "588/588 [==============================] - 4s 8ms/step - loss: 0.0022 - accuracy: 0.9998 - val_loss: 0.0012 - val_accuracy: 1.0000\n",
            "Epoch 8/50\n",
            "588/588 [==============================] - 3s 6ms/step - loss: 0.0012 - accuracy: 0.9999 - val_loss: 6.5555e-04 - val_accuracy: 1.0000\n",
            "Epoch 9/50\n",
            "588/588 [==============================] - 3s 6ms/step - loss: 0.0019 - accuracy: 0.9997 - val_loss: 5.8751e-04 - val_accuracy: 1.0000\n",
            "Epoch 10/50\n",
            "588/588 [==============================] - 5s 8ms/step - loss: 0.0022 - accuracy: 0.9995 - val_loss: 0.0012 - val_accuracy: 1.0000\n",
            "Epoch 11/50\n",
            "588/588 [==============================] - 4s 6ms/step - loss: 0.0040 - accuracy: 0.9994 - val_loss: 0.0016 - val_accuracy: 1.0000\n",
            "Epoch 12/50\n",
            "588/588 [==============================] - 4s 7ms/step - loss: 0.0015 - accuracy: 1.0000 - val_loss: 7.8973e-04 - val_accuracy: 1.0000\n",
            "Epoch 13/50\n",
            "588/588 [==============================] - 5s 8ms/step - loss: 0.0039 - accuracy: 0.9993 - val_loss: 0.0024 - val_accuracy: 1.0000\n",
            "Epoch 14/50\n",
            "588/588 [==============================] - 4s 6ms/step - loss: 0.0028 - accuracy: 0.9998 - val_loss: 0.0018 - val_accuracy: 1.0000\n",
            "Epoch 15/50\n",
            "588/588 [==============================] - 4s 6ms/step - loss: 0.0021 - accuracy: 0.9998 - val_loss: 0.0013 - val_accuracy: 1.0000\n",
            "Epoch 16/50\n",
            "588/588 [==============================] - 5s 8ms/step - loss: 0.0013 - accuracy: 1.0000 - val_loss: 8.3041e-04 - val_accuracy: 1.0000\n",
            "Epoch 17/50\n",
            "588/588 [==============================] - 3s 6ms/step - loss: 9.5198e-04 - accuracy: 0.9999 - val_loss: 5.9738e-04 - val_accuracy: 1.0000\n",
            "Epoch 18/50\n",
            "588/588 [==============================] - 3s 6ms/step - loss: 6.6828e-04 - accuracy: 1.0000 - val_loss: 3.3430e-04 - val_accuracy: 1.0000\n",
            "Epoch 19/50\n",
            "588/588 [==============================] - 4s 6ms/step - loss: 0.0058 - accuracy: 0.9992 - val_loss: 0.0013 - val_accuracy: 1.0000\n",
            "Epoch 20/50\n",
            "588/588 [==============================] - 4s 7ms/step - loss: 0.0014 - accuracy: 0.9999 - val_loss: 9.1806e-04 - val_accuracy: 1.0000\n",
            "Epoch 21/50\n",
            "588/588 [==============================] - 3s 6ms/step - loss: 0.0015 - accuracy: 0.9997 - val_loss: 6.2973e-04 - val_accuracy: 1.0000\n",
            "Epoch 22/50\n",
            "588/588 [==============================] - 4s 6ms/step - loss: 7.7421e-04 - accuracy: 0.9999 - val_loss: 4.2430e-04 - val_accuracy: 1.0000\n",
            "Epoch 23/50\n",
            "588/588 [==============================] - 4s 8ms/step - loss: 6.1682e-04 - accuracy: 0.9999 - val_loss: 3.0495e-04 - val_accuracy: 1.0000\n",
            "Epoch 24/50\n",
            "588/588 [==============================] - 4s 6ms/step - loss: 0.0028 - accuracy: 0.9994 - val_loss: 8.9988e-04 - val_accuracy: 1.0000\n",
            "Epoch 25/50\n",
            "588/588 [==============================] - 3s 6ms/step - loss: 0.0016 - accuracy: 0.9997 - val_loss: 6.5688e-04 - val_accuracy: 1.0000\n",
            "Epoch 26/50\n",
            "588/588 [==============================] - 4s 7ms/step - loss: 0.0018 - accuracy: 0.9997 - val_loss: 6.2453e-04 - val_accuracy: 1.0000\n",
            "Epoch 27/50\n",
            "588/588 [==============================] - 4s 6ms/step - loss: 7.1339e-04 - accuracy: 0.9999 - val_loss: 4.2731e-04 - val_accuracy: 1.0000\n",
            "Epoch 28/50\n",
            "588/588 [==============================] - 4s 6ms/step - loss: 7.2069e-04 - accuracy: 0.9999 - val_loss: 3.5873e-04 - val_accuracy: 1.0000\n",
            "Epoch 29/50\n",
            "588/588 [==============================] - 4s 7ms/step - loss: 0.0026 - accuracy: 0.9995 - val_loss: 9.1069e-04 - val_accuracy: 1.0000\n",
            "Epoch 30/50\n",
            "588/588 [==============================] - 4s 6ms/step - loss: 9.7027e-04 - accuracy: 0.9999 - val_loss: 5.7128e-04 - val_accuracy: 1.0000\n",
            "Epoch 31/50\n",
            "588/588 [==============================] - 4s 6ms/step - loss: 7.1044e-04 - accuracy: 0.9999 - val_loss: 3.6255e-04 - val_accuracy: 1.0000\n",
            "Epoch 32/50\n",
            "588/588 [==============================] - 4s 7ms/step - loss: 4.6963e-04 - accuracy: 0.9999 - val_loss: 2.1019e-04 - val_accuracy: 1.0000\n",
            "Epoch 33/50\n",
            "588/588 [==============================] - 4s 8ms/step - loss: 0.0035 - accuracy: 0.9995 - val_loss: 0.0011 - val_accuracy: 1.0000\n",
            "Epoch 34/50\n",
            "588/588 [==============================] - 3s 6ms/step - loss: 0.0014 - accuracy: 0.9998 - val_loss: 6.8460e-04 - val_accuracy: 1.0000\n",
            "Epoch 35/50\n",
            "588/588 [==============================] - 4s 6ms/step - loss: 0.0011 - accuracy: 0.9999 - val_loss: 5.7850e-04 - val_accuracy: 1.0000\n",
            "Epoch 36/50\n",
            "588/588 [==============================] - 4s 7ms/step - loss: 5.0817e-04 - accuracy: 1.0000 - val_loss: 3.3775e-04 - val_accuracy: 1.0000\n",
            "Epoch 37/50\n",
            "588/588 [==============================] - 4s 6ms/step - loss: 4.8515e-04 - accuracy: 0.9999 - val_loss: 2.3485e-04 - val_accuracy: 1.0000\n",
            "Epoch 38/50\n",
            "588/588 [==============================] - 4s 6ms/step - loss: 0.0032 - accuracy: 0.9993 - val_loss: 7.8081e-04 - val_accuracy: 1.0000\n",
            "Epoch 39/50\n",
            "588/588 [==============================] - 4s 7ms/step - loss: 0.0010 - accuracy: 0.9998 - val_loss: 6.0244e-04 - val_accuracy: 1.0000\n",
            "Epoch 40/50\n",
            "588/588 [==============================] - 4s 7ms/step - loss: 7.1005e-04 - accuracy: 0.9999 - val_loss: 4.0275e-04 - val_accuracy: 1.0000\n",
            "Epoch 41/50\n",
            "588/588 [==============================] - 4s 6ms/step - loss: 4.3985e-04 - accuracy: 1.0000 - val_loss: 2.8606e-04 - val_accuracy: 1.0000\n",
            "Epoch 42/50\n",
            "588/588 [==============================] - 4s 7ms/step - loss: 3.7125e-04 - accuracy: 0.9999 - val_loss: 2.0652e-04 - val_accuracy: 1.0000\n",
            "Epoch 43/50\n",
            "588/588 [==============================] - 3s 6ms/step - loss: 0.0126 - accuracy: 0.9975 - val_loss: 5.7376e-04 - val_accuracy: 1.0000\n",
            "Epoch 44/50\n",
            "588/588 [==============================] - 4s 7ms/step - loss: 0.0011 - accuracy: 0.9997 - val_loss: 4.0601e-04 - val_accuracy: 1.0000\n",
            "Epoch 45/50\n",
            "588/588 [==============================] - 4s 8ms/step - loss: 0.0010 - accuracy: 0.9999 - val_loss: 3.4389e-04 - val_accuracy: 1.0000\n",
            "Epoch 46/50\n",
            "588/588 [==============================] - 3s 6ms/step - loss: 4.3309e-04 - accuracy: 1.0000 - val_loss: 2.3175e-04 - val_accuracy: 1.0000\n",
            "Epoch 47/50\n",
            "588/588 [==============================] - 3s 5ms/step - loss: 5.6436e-04 - accuracy: 0.9999 - val_loss: 1.8410e-04 - val_accuracy: 1.0000\n",
            "Epoch 48/50\n",
            "588/588 [==============================] - 4s 6ms/step - loss: 0.0016 - accuracy: 0.9997 - val_loss: 8.6485e-04 - val_accuracy: 1.0000\n",
            "Epoch 49/50\n",
            "588/588 [==============================] - 4s 7ms/step - loss: 8.0439e-04 - accuracy: 1.0000 - val_loss: 5.3236e-04 - val_accuracy: 1.0000\n",
            "Epoch 50/50\n",
            "588/588 [==============================] - 4s 6ms/step - loss: 7.2732e-04 - accuracy: 0.9999 - val_loss: 5.8250e-04 - val_accuracy: 1.0000\n"
          ]
        }
      ],
      "source": [
        "#Recurrent Neural Networks\n",
        "\n",
        "# Initialize the constructor\n",
        "model = Sequential()\n",
        "\n",
        "# Add an input layer with L2 regularization\n",
        "model.add(SimpleRNN(64, activation='tanh', input_shape=(X_train.shape[1], 1), return_sequences=True, kernel_regularizer=l2(0.01)))\n",
        "\n",
        "# Add a hidden layer with dropout\n",
        "model.add(SimpleRNN(50, activation='relu'))  # Second RNN layer\n",
        "model.add(Dropout(0.5))\n",
        "\n",
        "# Add batch normalization layer\n",
        "model.add(BatchNormalization())\n",
        "\n",
        "# Add an output layer\n",
        "model.add(Dense(1, activation='sigmoid'))\n",
        "\n",
        "# Set up early stopping\n",
        "es = EarlyStopping(monitor='val_loss', mode='min', verbose=1, patience=20)\n",
        "\n",
        "model.compile(loss='binary_crossentropy',\n",
        "              optimizer='adam',\n",
        "              metrics=['accuracy'])\n",
        "\n",
        "history = model.fit(X_train_scaled, y_train, epochs=50, batch_size=32, validation_data=(X_val_scaled, y_val), callbacks=[es])\n"
      ]
    },
    {
      "cell_type": "code",
      "execution_count": null,
      "metadata": {
        "colab": {
          "base_uri": "https://localhost:8080/",
          "height": 556
        },
        "id": "8QBFoBD164d8",
        "outputId": "2eda5700-796b-4c0e-c9a7-5625d7ed658e"
      },
      "outputs": [
        {
          "data": {
            "image/png": "[encoded data removed]",
            "text/plain": [
              "<Figure size 1200x600 with 1 Axes>"
            ]
          },
          "metadata": {},
          "output_type": "display_data"
        }
      ],
      "source": [
        "plt.figure(figsize=(12, 6))\n",
        "plt.subplot(1, 2, 1)\n",
        "plt.plot(history.history['loss'], c='b', label = 'Train Loss')\n",
        "plt.plot(history.history['val_loss'], c='r', label = 'Validation Loss')\n",
        "plt.legend()\n",
        "plt.grid()\n",
        "plt.xlabel('Epochs', fontsize=20)\n",
        "plt.ylabel('Loss', fontsize=20)\n",
        "plt.show()"
      ]
    },
    {
      "cell_type": "markdown",
      "metadata": {
        "id": "tNKeqPKPDNui"
      },
      "source": [
        "Linear Regression: You can add a regularization term to the loss function to prevent overfitting. In sklearn, you can use Ridge for L2 regularization or Lasso for L1 regularization.\n",
        "\n",
        "Decision Tree: You can limit the depth of the tree (max_depth), set a minimum number of samples required to split an internal node (min_samples_split), or set a minimum number of samples required to be at a leaf node (min_samples_leaf) to prevent overfitting.\n",
        "\n",
        "KNN: Choosing the right value for k is crucial to prevent overfitting. Cross-validation can be helpful to find the optimal k.\n",
        "\n",
        "Naive Bayes: Naive Bayes is less prone to overfitting compared to other models. However, you can still use cross-validation to tune the parameters.\n",
        "\n",
        "Logistic Regression: Similar to Linear Regression, you can add a regularization term to the loss function to prevent overfitting. In sklearn, you can adjust the C parameter which is the inverse of regularization strength.\n",
        "\n",
        "SVM: You can use the C parameter to control the trade-off between achieving a low error on the training data and minimizing the norm of the weights. A smaller C creates a wider margin but allows more misclassifications.\n"
      ]
    },
    {
      "cell_type": "code",
      "execution_count": null,
      "metadata": {
        "id": "uHYdikvUDbDD"
      },
      "outputs": [],
      "source": [
        "#Random Forest Regressor (Ensemble Learning)\n",
        "from sklearn.model_selection import GridSearchCV\n",
        "\n",
        "param_grid = {\n",
        "    'max_depth': [10, 20, 30, 40, 50],\n",
        "    'min_samples_leaf': [1, 2, 4, 6, 8],\n",
        "}\n",
        "\n",
        "rf = RandomForestRegressor()\n",
        "grid_search_rf = GridSearchCV(estimator=rf, param_grid=param_grid, cv=5)\n",
        "history = grid_search_rf.fit(X_train, y_train)"
      ]
    },
    {
      "cell_type": "code",
      "execution_count": null,
      "metadata": {
        "id": "yYZrYmQ4Je-M"
      },
      "outputs": [],
      "source": [
        "param_grid = {\n",
        "    'n_estimators': [50, 100, 200]\n",
        "}\n",
        "\n",
        "ab = AdaBoostRegressor()\n",
        "grid_search_ada = GridSearchCV(estimator=ab, param_grid=param_grid, cv=5)\n",
        "grid_search_ada.fit(X_train, y_train)"
      ]
    },
    {
      "cell_type": "code",
      "execution_count": null,
      "metadata": {
        "id": "cJmNwgKsIP5H"
      },
      "outputs": [],
      "source": [
        "#Gradient Boosting Regressor\n",
        "param_grid = {\n",
        "    'n_estimators': [50, 100, 200],\n",
        "    'learning_rate': [0.01, 0.1, 1]\n",
        "}\n",
        "\n",
        "gb = GradientBoostingRegressor()\n",
        "grid_search_gb = GridSearchCV(estimator=gb, param_grid=param_grid, cv=5)\n",
        "grid_search_gb.fit(X_train, y_train)"
      ]
    },
    {
      "cell_type": "code",
      "execution_count": null,
      "metadata": {
        "colab": {
          "base_uri": "https://localhost:8080/",
          "height": 472
        },
        "id": "yz3ElaS1FLYN",
        "outputId": "884c2681-dc9f-4d44-e3ff-594483d9872a"
      },
      "outputs": [
        {
          "data": {
            "image/png": "[encoded data removed]",
            "text/plain": [
              "<Figure size 640x480 with 1 Axes>"
            ]
          },
          "metadata": {},
          "output_type": "display_data"
        }
      ],
      "source": [
        "from sklearn.metrics import roc_curve, auc\n",
        "# Compute ROC curve and ROC area for Random Forest\n",
        "rf_pred = grid_search_rf.predict(X_test)\n",
        "rf_fpr, rf_tpr, _ = roc_curve(y_test, rf_pred)\n",
        "rf_roc_auc = auc(rf_fpr, rf_tpr)\n",
        "\n",
        "# Compute ROC curve and ROC area for AdaBoost\n",
        "ab_pred = grid_search_ada.predict(X_test)\n",
        "ab_fpr, ab_tpr, _ = roc_curve(y_test, ab_pred)\n",
        "ab_roc_auc = auc(ab_fpr, ab_tpr)\n",
        "\n",
        "# Compute ROC curve and ROC area for AdaBoost\n",
        "gb_pred = grid_search_gb.predict(X_test)\n",
        "gb_fpr, gb_tpr, _ = roc_curve(y_test, gb_pred)\n",
        "gb_roc_auc = auc(gb_fpr, gb_tpr)\n",
        "\n",
        "\n",
        "plt.figure()\n",
        "plt.plot(rf_fpr, rf_tpr, label='Random Forest (area = %0.2f)' % rf_roc_auc)\n",
        "plt.plot(ab_fpr, ab_tpr, label='AdaBoost (area = %0.2f)' % ab_roc_auc)\n",
        "plt.plot(gb_fpr, gb_tpr, label='GradBoost (area = %0.2f)' % gb_roc_auc)\n",
        "plt.plot([0, 1], [0, 1],'r--')\n",
        "plt.xlim([0.0, 1.0])\n",
        "plt.ylim([0.0, 1.05])\n",
        "plt.xlabel('False Positive Rate')\n",
        "plt.ylabel('True Positive Rate')\n",
        "plt.title('Receiver Operating Characteristic')\n",
        "plt.legend(loc=\"lower right\")\n",
        "plt.show()"
      ]
    },
    {
      "cell_type": "markdown",
      "metadata": {
        "id": "jwLpaeZJyoaJ"
      },
      "source": [
        "## Part 5"
      ]
    },
    {
      "cell_type": "markdown",
      "metadata": {
        "id": "l2PDm0ee0K3q"
      },
      "source": [
        "**Here is our result before apply overfitting technique:**\n",
        "\n",
        "MSE of Recurrent Neural Network 0.00031522816255823925\n",
        "\n",
        "MSE of Feed Forward Neural Network 0.24184707239558825\n",
        "\n",
        "Random Forest (Bagging) Training MSE: 0.0\n",
        "\n",
        "AdaBoost (Boosting) Training MSE: 0.0\n",
        "\n",
        "Gradient Boosting (Boosting) Training MSE: 1.0290598273633982e-10\n",
        "\n",
        "Linear Regression Training MSE: 7.03664357828884e-32\n",
        "\n",
        "Decision Tree Training MSE: 0.0\n",
        "\n",
        "KNN Training MSE: 5.748350010645093e-05\n",
        "\n",
        "Naive Bayes Training MSE: 0.0\n",
        "\n",
        "Logistic Regression Training MSE: 0.0\n",
        "\n",
        "SVM Training MSE: 0.0024173057232355975"
      ]
    },
    {
      "cell_type": "markdown",
      "metadata": {
        "id": "RfZ_Pp5S1Qsj"
      },
      "source": [
        "#### Analysis Result"
      ]
    },
    {
      "cell_type": "markdown",
      "metadata": {
        "id": "5dPa4A2X0pEG"
      },
      "source": [
        "The Mean Squared Error (MSE) is a measure of how close a fitted line is to data points. The smaller the MSE, the closer the fit is to the data. In other words, the smaller the number, the better the model has performed.\n",
        "\n",
        "Recurrent Neural Network (RNN): The MSE is very small, which indicates that this model has performed well.\n",
        "\n",
        "Feed Forward Neural Network (FFNN): The MSE is larger compared to the RNN, which suggests that this model is not as good as RNN.\n",
        "\n",
        "Random Forest, AdaBoost, Decision Tree, Naive Bayes, Logistic Regression: The training MSE for these models is 0, which might suggest that they are overfitting the training data. Overfitting happens when a model learns the detail and noise in the training data to the extent that it negatively impacts the performance of the model on new data.\n",
        "\n",
        "Gradient Boosting: The training MSE is extremely small, almost zero, which is a good sign. But it might be a sign of overfitting.\n",
        "\n",
        "Linear Regression: The training and validation MSEs are extremely small, which suggests that this model has performed very well on both the training data and the validation data.\n",
        "\n",
        "K-Nearest Neighbors (KNN): The training and validation MSEs are small, but not as small as some of the other models. This suggests that the model is performing reasonably well, but there might be room for improvement.\n",
        "\n",
        "Support Vector Machine (SVM): The training and validation MSEs are larger than some of the other models, which suggests that this model might not be performing as well."
      ]
    }
  ],
  "metadata": {
    "colab": {
      "collapsed_sections": [
        "xQg8afu-xQNt",
        "GsS90i1IcSyH",
        "2VVXm6cgohXu",
        "ITFU_JA_omUI",
        "RMUO9VNVyb8l"
      ],
      "provenance": []
    },
    "kernelspec": {
      "display_name": "Python 3",
      "name": "python3"
    },
    "language_info": {
      "name": "python"
    }
  },
  "nbformat": 4,
  "nbformat_minor": 0
}
